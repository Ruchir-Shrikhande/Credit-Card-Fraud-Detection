{
 "cells": [
  {
   "attachments": {},
   "cell_type": "markdown",
   "metadata": {},
   "source": [
    "### Project Title: Credit Card Fraud Detection\n",
    "\n",
    "### Course: CS 513 Knowledge Discovery and Data Mining\n",
    "\n",
    "### Group Members:\n",
    "\n",
    "### Ruchir Ajit Shrikhande 20005367\n",
    "\n",
    "### Abhishek Panda 10478684\n",
    "\n",
    "### Nikunj Gajera 20008706\n",
    "\n",
    "### Surbhi Dhanani 20008876"
   ]
  },
  {
   "cell_type": "markdown",
   "metadata": {},
   "source": [
    "Importing Libraries"
   ]
  },
  {
   "cell_type": "code",
   "execution_count": 1,
   "metadata": {
    "id": "hOWGK8emBw18"
   },
   "outputs": [
    {
     "data": {
      "text/html": [
       "        <script type=\"text/javascript\">\n",
       "        window.PlotlyConfig = {MathJaxConfig: 'local'};\n",
       "        if (window.MathJax && window.MathJax.Hub && window.MathJax.Hub.Config) {window.MathJax.Hub.Config({SVG: {font: \"STIX-Web\"}});}\n",
       "        if (typeof require !== 'undefined') {\n",
       "        require.undef(\"plotly\");\n",
       "        requirejs.config({\n",
       "            paths: {\n",
       "                'plotly': ['https://cdn.plot.ly/plotly-2.16.1.min']\n",
       "            }\n",
       "        });\n",
       "        require(['plotly'], function(Plotly) {\n",
       "            window._Plotly = Plotly;\n",
       "        });\n",
       "        }\n",
       "        </script>\n",
       "        "
      ]
     },
     "metadata": {},
     "output_type": "display_data"
    }
   ],
   "source": [
    "import numpy as np\n",
    "import pandas as pd\n",
    "import matplotlib.pyplot as plt\n",
    "import seaborn as sns\n",
    "from sklearn.decomposition import PCA\n",
    "from sklearn import preprocessing\n",
    "from sklearn.preprocessing import StandardScaler\n",
    "from sklearn.model_selection import train_test_split\n",
    "from sklearn.linear_model import LogisticRegression\n",
    "from sklearn.tree import DecisionTreeClassifier\n",
    "from sklearn.neighbors import KNeighborsClassifier\n",
    "from sklearn.naive_bayes import GaussianNB\n",
    "from sklearn.svm import SVC\n",
    "from sklearn.ensemble import RandomForestClassifier\n",
    "from tensorflow.keras.models import Sequential \n",
    "from tensorflow.keras.layers import Dense,Activation,Dropout, Flatten\n",
    "from sklearn.metrics import confusion_matrix, accuracy_score\n",
    "from sklearn.ensemble import GradientBoostingClassifier\n",
    "from sklearn.model_selection import train_test_split \n",
    "from keras.layers import Conv2D, MaxPooling2D\n",
    "from tensorflow.keras.layers import BatchNormalization\n",
    "from tensorflow.keras.optimizers import Adam\n",
    "\n",
    "import xgboost as xg\n",
    "import plotly\n",
    "import plotly.express as px\n",
    "import plotly.graph_objects as go\n",
    "plotly.offline.init_notebook_mode(connected=True)\n",
    "from sklearn.metrics import  confusion_matrix,accuracy_score\n",
    "from sklearn.metrics import classification_report"
   ]
  },
  {
   "cell_type": "markdown",
   "metadata": {},
   "source": [
    "Reading the Data"
   ]
  },
  {
   "cell_type": "code",
   "execution_count": 2,
   "metadata": {
    "id": "oI2wBLRTCv2J"
   },
   "outputs": [],
   "source": [
    "data = pd.read_csv(\"application_data.csv\")"
   ]
  },
  {
   "cell_type": "code",
   "execution_count": 3,
   "metadata": {
    "colab": {
     "base_uri": "https://localhost:8080/",
     "height": 483
    },
    "id": "fOruymqNCy-b",
    "outputId": "ccd5e525-aab7-43a6-ab68-3a0499ac25b1"
   },
   "outputs": [
    {
     "data": {
      "text/html": [
       "<div>\n",
       "<style scoped>\n",
       "    .dataframe tbody tr th:only-of-type {\n",
       "        vertical-align: middle;\n",
       "    }\n",
       "\n",
       "    .dataframe tbody tr th {\n",
       "        vertical-align: top;\n",
       "    }\n",
       "\n",
       "    .dataframe thead th {\n",
       "        text-align: right;\n",
       "    }\n",
       "</style>\n",
       "<table border=\"1\" class=\"dataframe\">\n",
       "  <thead>\n",
       "    <tr style=\"text-align: right;\">\n",
       "      <th></th>\n",
       "      <th>SK_ID_CURR</th>\n",
       "      <th>TARGET</th>\n",
       "      <th>NAME_CONTRACT_TYPE</th>\n",
       "      <th>CODE_GENDER</th>\n",
       "      <th>FLAG_OWN_CAR</th>\n",
       "      <th>FLAG_OWN_REALTY</th>\n",
       "      <th>CNT_CHILDREN</th>\n",
       "      <th>AMT_INCOME_TOTAL</th>\n",
       "      <th>AMT_CREDIT</th>\n",
       "      <th>AMT_ANNUITY</th>\n",
       "      <th>...</th>\n",
       "      <th>FLAG_DOCUMENT_18</th>\n",
       "      <th>FLAG_DOCUMENT_19</th>\n",
       "      <th>FLAG_DOCUMENT_20</th>\n",
       "      <th>FLAG_DOCUMENT_21</th>\n",
       "      <th>AMT_REQ_CREDIT_BUREAU_HOUR</th>\n",
       "      <th>AMT_REQ_CREDIT_BUREAU_DAY</th>\n",
       "      <th>AMT_REQ_CREDIT_BUREAU_WEEK</th>\n",
       "      <th>AMT_REQ_CREDIT_BUREAU_MON</th>\n",
       "      <th>AMT_REQ_CREDIT_BUREAU_QRT</th>\n",
       "      <th>AMT_REQ_CREDIT_BUREAU_YEAR</th>\n",
       "    </tr>\n",
       "  </thead>\n",
       "  <tbody>\n",
       "    <tr>\n",
       "      <th>0</th>\n",
       "      <td>100002</td>\n",
       "      <td>1</td>\n",
       "      <td>Cash loans</td>\n",
       "      <td>M</td>\n",
       "      <td>N</td>\n",
       "      <td>Y</td>\n",
       "      <td>0</td>\n",
       "      <td>202500.0</td>\n",
       "      <td>406597.5</td>\n",
       "      <td>24700.5</td>\n",
       "      <td>...</td>\n",
       "      <td>0</td>\n",
       "      <td>0</td>\n",
       "      <td>0</td>\n",
       "      <td>0</td>\n",
       "      <td>0.0</td>\n",
       "      <td>0.0</td>\n",
       "      <td>0.0</td>\n",
       "      <td>0.0</td>\n",
       "      <td>0.0</td>\n",
       "      <td>1.0</td>\n",
       "    </tr>\n",
       "    <tr>\n",
       "      <th>1</th>\n",
       "      <td>100003</td>\n",
       "      <td>0</td>\n",
       "      <td>Cash loans</td>\n",
       "      <td>F</td>\n",
       "      <td>N</td>\n",
       "      <td>N</td>\n",
       "      <td>0</td>\n",
       "      <td>270000.0</td>\n",
       "      <td>1293502.5</td>\n",
       "      <td>35698.5</td>\n",
       "      <td>...</td>\n",
       "      <td>0</td>\n",
       "      <td>0</td>\n",
       "      <td>0</td>\n",
       "      <td>0</td>\n",
       "      <td>0.0</td>\n",
       "      <td>0.0</td>\n",
       "      <td>0.0</td>\n",
       "      <td>0.0</td>\n",
       "      <td>0.0</td>\n",
       "      <td>0.0</td>\n",
       "    </tr>\n",
       "    <tr>\n",
       "      <th>2</th>\n",
       "      <td>100004</td>\n",
       "      <td>0</td>\n",
       "      <td>Revolving loans</td>\n",
       "      <td>M</td>\n",
       "      <td>Y</td>\n",
       "      <td>Y</td>\n",
       "      <td>0</td>\n",
       "      <td>67500.0</td>\n",
       "      <td>135000.0</td>\n",
       "      <td>6750.0</td>\n",
       "      <td>...</td>\n",
       "      <td>0</td>\n",
       "      <td>0</td>\n",
       "      <td>0</td>\n",
       "      <td>0</td>\n",
       "      <td>0.0</td>\n",
       "      <td>0.0</td>\n",
       "      <td>0.0</td>\n",
       "      <td>0.0</td>\n",
       "      <td>0.0</td>\n",
       "      <td>0.0</td>\n",
       "    </tr>\n",
       "    <tr>\n",
       "      <th>3</th>\n",
       "      <td>100006</td>\n",
       "      <td>0</td>\n",
       "      <td>Cash loans</td>\n",
       "      <td>F</td>\n",
       "      <td>N</td>\n",
       "      <td>Y</td>\n",
       "      <td>0</td>\n",
       "      <td>135000.0</td>\n",
       "      <td>312682.5</td>\n",
       "      <td>29686.5</td>\n",
       "      <td>...</td>\n",
       "      <td>0</td>\n",
       "      <td>0</td>\n",
       "      <td>0</td>\n",
       "      <td>0</td>\n",
       "      <td>NaN</td>\n",
       "      <td>NaN</td>\n",
       "      <td>NaN</td>\n",
       "      <td>NaN</td>\n",
       "      <td>NaN</td>\n",
       "      <td>NaN</td>\n",
       "    </tr>\n",
       "    <tr>\n",
       "      <th>4</th>\n",
       "      <td>100007</td>\n",
       "      <td>0</td>\n",
       "      <td>Cash loans</td>\n",
       "      <td>M</td>\n",
       "      <td>N</td>\n",
       "      <td>Y</td>\n",
       "      <td>0</td>\n",
       "      <td>121500.0</td>\n",
       "      <td>513000.0</td>\n",
       "      <td>21865.5</td>\n",
       "      <td>...</td>\n",
       "      <td>0</td>\n",
       "      <td>0</td>\n",
       "      <td>0</td>\n",
       "      <td>0</td>\n",
       "      <td>0.0</td>\n",
       "      <td>0.0</td>\n",
       "      <td>0.0</td>\n",
       "      <td>0.0</td>\n",
       "      <td>0.0</td>\n",
       "      <td>0.0</td>\n",
       "    </tr>\n",
       "    <tr>\n",
       "      <th>...</th>\n",
       "      <td>...</td>\n",
       "      <td>...</td>\n",
       "      <td>...</td>\n",
       "      <td>...</td>\n",
       "      <td>...</td>\n",
       "      <td>...</td>\n",
       "      <td>...</td>\n",
       "      <td>...</td>\n",
       "      <td>...</td>\n",
       "      <td>...</td>\n",
       "      <td>...</td>\n",
       "      <td>...</td>\n",
       "      <td>...</td>\n",
       "      <td>...</td>\n",
       "      <td>...</td>\n",
       "      <td>...</td>\n",
       "      <td>...</td>\n",
       "      <td>...</td>\n",
       "      <td>...</td>\n",
       "      <td>...</td>\n",
       "      <td>...</td>\n",
       "    </tr>\n",
       "    <tr>\n",
       "      <th>307506</th>\n",
       "      <td>456251</td>\n",
       "      <td>0</td>\n",
       "      <td>Cash loans</td>\n",
       "      <td>M</td>\n",
       "      <td>N</td>\n",
       "      <td>N</td>\n",
       "      <td>0</td>\n",
       "      <td>157500.0</td>\n",
       "      <td>254700.0</td>\n",
       "      <td>27558.0</td>\n",
       "      <td>...</td>\n",
       "      <td>0</td>\n",
       "      <td>0</td>\n",
       "      <td>0</td>\n",
       "      <td>0</td>\n",
       "      <td>NaN</td>\n",
       "      <td>NaN</td>\n",
       "      <td>NaN</td>\n",
       "      <td>NaN</td>\n",
       "      <td>NaN</td>\n",
       "      <td>NaN</td>\n",
       "    </tr>\n",
       "    <tr>\n",
       "      <th>307507</th>\n",
       "      <td>456252</td>\n",
       "      <td>0</td>\n",
       "      <td>Cash loans</td>\n",
       "      <td>F</td>\n",
       "      <td>N</td>\n",
       "      <td>Y</td>\n",
       "      <td>0</td>\n",
       "      <td>72000.0</td>\n",
       "      <td>269550.0</td>\n",
       "      <td>12001.5</td>\n",
       "      <td>...</td>\n",
       "      <td>0</td>\n",
       "      <td>0</td>\n",
       "      <td>0</td>\n",
       "      <td>0</td>\n",
       "      <td>NaN</td>\n",
       "      <td>NaN</td>\n",
       "      <td>NaN</td>\n",
       "      <td>NaN</td>\n",
       "      <td>NaN</td>\n",
       "      <td>NaN</td>\n",
       "    </tr>\n",
       "    <tr>\n",
       "      <th>307508</th>\n",
       "      <td>456253</td>\n",
       "      <td>0</td>\n",
       "      <td>Cash loans</td>\n",
       "      <td>F</td>\n",
       "      <td>N</td>\n",
       "      <td>Y</td>\n",
       "      <td>0</td>\n",
       "      <td>153000.0</td>\n",
       "      <td>677664.0</td>\n",
       "      <td>29979.0</td>\n",
       "      <td>...</td>\n",
       "      <td>0</td>\n",
       "      <td>0</td>\n",
       "      <td>0</td>\n",
       "      <td>0</td>\n",
       "      <td>1.0</td>\n",
       "      <td>0.0</td>\n",
       "      <td>0.0</td>\n",
       "      <td>1.0</td>\n",
       "      <td>0.0</td>\n",
       "      <td>1.0</td>\n",
       "    </tr>\n",
       "    <tr>\n",
       "      <th>307509</th>\n",
       "      <td>456254</td>\n",
       "      <td>1</td>\n",
       "      <td>Cash loans</td>\n",
       "      <td>F</td>\n",
       "      <td>N</td>\n",
       "      <td>Y</td>\n",
       "      <td>0</td>\n",
       "      <td>171000.0</td>\n",
       "      <td>370107.0</td>\n",
       "      <td>20205.0</td>\n",
       "      <td>...</td>\n",
       "      <td>0</td>\n",
       "      <td>0</td>\n",
       "      <td>0</td>\n",
       "      <td>0</td>\n",
       "      <td>0.0</td>\n",
       "      <td>0.0</td>\n",
       "      <td>0.0</td>\n",
       "      <td>0.0</td>\n",
       "      <td>0.0</td>\n",
       "      <td>0.0</td>\n",
       "    </tr>\n",
       "    <tr>\n",
       "      <th>307510</th>\n",
       "      <td>456255</td>\n",
       "      <td>0</td>\n",
       "      <td>Cash loans</td>\n",
       "      <td>F</td>\n",
       "      <td>N</td>\n",
       "      <td>N</td>\n",
       "      <td>0</td>\n",
       "      <td>157500.0</td>\n",
       "      <td>675000.0</td>\n",
       "      <td>49117.5</td>\n",
       "      <td>...</td>\n",
       "      <td>0</td>\n",
       "      <td>0</td>\n",
       "      <td>0</td>\n",
       "      <td>0</td>\n",
       "      <td>0.0</td>\n",
       "      <td>0.0</td>\n",
       "      <td>0.0</td>\n",
       "      <td>2.0</td>\n",
       "      <td>0.0</td>\n",
       "      <td>1.0</td>\n",
       "    </tr>\n",
       "  </tbody>\n",
       "</table>\n",
       "<p>307511 rows × 122 columns</p>\n",
       "</div>"
      ],
      "text/plain": [
       "        SK_ID_CURR  TARGET NAME_CONTRACT_TYPE CODE_GENDER FLAG_OWN_CAR  \\\n",
       "0           100002       1         Cash loans           M            N   \n",
       "1           100003       0         Cash loans           F            N   \n",
       "2           100004       0    Revolving loans           M            Y   \n",
       "3           100006       0         Cash loans           F            N   \n",
       "4           100007       0         Cash loans           M            N   \n",
       "...            ...     ...                ...         ...          ...   \n",
       "307506      456251       0         Cash loans           M            N   \n",
       "307507      456252       0         Cash loans           F            N   \n",
       "307508      456253       0         Cash loans           F            N   \n",
       "307509      456254       1         Cash loans           F            N   \n",
       "307510      456255       0         Cash loans           F            N   \n",
       "\n",
       "       FLAG_OWN_REALTY  CNT_CHILDREN  AMT_INCOME_TOTAL  AMT_CREDIT  \\\n",
       "0                    Y             0          202500.0    406597.5   \n",
       "1                    N             0          270000.0   1293502.5   \n",
       "2                    Y             0           67500.0    135000.0   \n",
       "3                    Y             0          135000.0    312682.5   \n",
       "4                    Y             0          121500.0    513000.0   \n",
       "...                ...           ...               ...         ...   \n",
       "307506               N             0          157500.0    254700.0   \n",
       "307507               Y             0           72000.0    269550.0   \n",
       "307508               Y             0          153000.0    677664.0   \n",
       "307509               Y             0          171000.0    370107.0   \n",
       "307510               N             0          157500.0    675000.0   \n",
       "\n",
       "        AMT_ANNUITY  ...  FLAG_DOCUMENT_18 FLAG_DOCUMENT_19 FLAG_DOCUMENT_20  \\\n",
       "0           24700.5  ...                 0                0                0   \n",
       "1           35698.5  ...                 0                0                0   \n",
       "2            6750.0  ...                 0                0                0   \n",
       "3           29686.5  ...                 0                0                0   \n",
       "4           21865.5  ...                 0                0                0   \n",
       "...             ...  ...               ...              ...              ...   \n",
       "307506      27558.0  ...                 0                0                0   \n",
       "307507      12001.5  ...                 0                0                0   \n",
       "307508      29979.0  ...                 0                0                0   \n",
       "307509      20205.0  ...                 0                0                0   \n",
       "307510      49117.5  ...                 0                0                0   \n",
       "\n",
       "       FLAG_DOCUMENT_21 AMT_REQ_CREDIT_BUREAU_HOUR AMT_REQ_CREDIT_BUREAU_DAY  \\\n",
       "0                     0                        0.0                       0.0   \n",
       "1                     0                        0.0                       0.0   \n",
       "2                     0                        0.0                       0.0   \n",
       "3                     0                        NaN                       NaN   \n",
       "4                     0                        0.0                       0.0   \n",
       "...                 ...                        ...                       ...   \n",
       "307506                0                        NaN                       NaN   \n",
       "307507                0                        NaN                       NaN   \n",
       "307508                0                        1.0                       0.0   \n",
       "307509                0                        0.0                       0.0   \n",
       "307510                0                        0.0                       0.0   \n",
       "\n",
       "        AMT_REQ_CREDIT_BUREAU_WEEK  AMT_REQ_CREDIT_BUREAU_MON  \\\n",
       "0                              0.0                        0.0   \n",
       "1                              0.0                        0.0   \n",
       "2                              0.0                        0.0   \n",
       "3                              NaN                        NaN   \n",
       "4                              0.0                        0.0   \n",
       "...                            ...                        ...   \n",
       "307506                         NaN                        NaN   \n",
       "307507                         NaN                        NaN   \n",
       "307508                         0.0                        1.0   \n",
       "307509                         0.0                        0.0   \n",
       "307510                         0.0                        2.0   \n",
       "\n",
       "        AMT_REQ_CREDIT_BUREAU_QRT  AMT_REQ_CREDIT_BUREAU_YEAR  \n",
       "0                             0.0                         1.0  \n",
       "1                             0.0                         0.0  \n",
       "2                             0.0                         0.0  \n",
       "3                             NaN                         NaN  \n",
       "4                             0.0                         0.0  \n",
       "...                           ...                         ...  \n",
       "307506                        NaN                         NaN  \n",
       "307507                        NaN                         NaN  \n",
       "307508                        0.0                         1.0  \n",
       "307509                        0.0                         0.0  \n",
       "307510                        0.0                         1.0  \n",
       "\n",
       "[307511 rows x 122 columns]"
      ]
     },
     "execution_count": 3,
     "metadata": {},
     "output_type": "execute_result"
    }
   ],
   "source": [
    "data"
   ]
  },
  {
   "cell_type": "code",
   "execution_count": 4,
   "metadata": {
    "colab": {
     "base_uri": "https://localhost:8080/"
    },
    "id": "MpSVC3udC4Jq",
    "outputId": "6a837b15-53ba-42c0-fb24-9a5f66e231ae"
   },
   "outputs": [
    {
     "data": {
      "text/plain": [
       "(307511, 122)"
      ]
     },
     "execution_count": 4,
     "metadata": {},
     "output_type": "execute_result"
    }
   ],
   "source": [
    "data.shape"
   ]
  },
  {
   "cell_type": "code",
   "execution_count": 5,
   "metadata": {
    "colab": {
     "base_uri": "https://localhost:8080/",
     "height": 390
    },
    "id": "yo__9uklC5-B",
    "outputId": "216297c6-7893-4c32-f6ca-ce09f43987d8",
    "scrolled": true
   },
   "outputs": [
    {
     "data": {
      "text/html": [
       "<div>\n",
       "<style scoped>\n",
       "    .dataframe tbody tr th:only-of-type {\n",
       "        vertical-align: middle;\n",
       "    }\n",
       "\n",
       "    .dataframe tbody tr th {\n",
       "        vertical-align: top;\n",
       "    }\n",
       "\n",
       "    .dataframe thead th {\n",
       "        text-align: right;\n",
       "    }\n",
       "</style>\n",
       "<table border=\"1\" class=\"dataframe\">\n",
       "  <thead>\n",
       "    <tr style=\"text-align: right;\">\n",
       "      <th></th>\n",
       "      <th>SK_ID_CURR</th>\n",
       "      <th>TARGET</th>\n",
       "      <th>CNT_CHILDREN</th>\n",
       "      <th>AMT_INCOME_TOTAL</th>\n",
       "      <th>AMT_CREDIT</th>\n",
       "      <th>AMT_ANNUITY</th>\n",
       "      <th>AMT_GOODS_PRICE</th>\n",
       "      <th>REGION_POPULATION_RELATIVE</th>\n",
       "      <th>DAYS_BIRTH</th>\n",
       "      <th>DAYS_EMPLOYED</th>\n",
       "      <th>...</th>\n",
       "      <th>FLAG_DOCUMENT_18</th>\n",
       "      <th>FLAG_DOCUMENT_19</th>\n",
       "      <th>FLAG_DOCUMENT_20</th>\n",
       "      <th>FLAG_DOCUMENT_21</th>\n",
       "      <th>AMT_REQ_CREDIT_BUREAU_HOUR</th>\n",
       "      <th>AMT_REQ_CREDIT_BUREAU_DAY</th>\n",
       "      <th>AMT_REQ_CREDIT_BUREAU_WEEK</th>\n",
       "      <th>AMT_REQ_CREDIT_BUREAU_MON</th>\n",
       "      <th>AMT_REQ_CREDIT_BUREAU_QRT</th>\n",
       "      <th>AMT_REQ_CREDIT_BUREAU_YEAR</th>\n",
       "    </tr>\n",
       "  </thead>\n",
       "  <tbody>\n",
       "    <tr>\n",
       "      <th>count</th>\n",
       "      <td>307511.000000</td>\n",
       "      <td>307511.000000</td>\n",
       "      <td>307511.000000</td>\n",
       "      <td>3.075110e+05</td>\n",
       "      <td>3.075110e+05</td>\n",
       "      <td>307499.000000</td>\n",
       "      <td>3.072330e+05</td>\n",
       "      <td>307511.000000</td>\n",
       "      <td>307511.000000</td>\n",
       "      <td>307511.000000</td>\n",
       "      <td>...</td>\n",
       "      <td>307511.000000</td>\n",
       "      <td>307511.000000</td>\n",
       "      <td>307511.000000</td>\n",
       "      <td>307511.000000</td>\n",
       "      <td>265992.000000</td>\n",
       "      <td>265992.000000</td>\n",
       "      <td>265992.000000</td>\n",
       "      <td>265992.000000</td>\n",
       "      <td>265992.000000</td>\n",
       "      <td>265992.000000</td>\n",
       "    </tr>\n",
       "    <tr>\n",
       "      <th>mean</th>\n",
       "      <td>278180.518577</td>\n",
       "      <td>0.080729</td>\n",
       "      <td>0.417052</td>\n",
       "      <td>1.687979e+05</td>\n",
       "      <td>5.990260e+05</td>\n",
       "      <td>27108.573909</td>\n",
       "      <td>5.383962e+05</td>\n",
       "      <td>0.020868</td>\n",
       "      <td>-16036.995067</td>\n",
       "      <td>63815.045904</td>\n",
       "      <td>...</td>\n",
       "      <td>0.008130</td>\n",
       "      <td>0.000595</td>\n",
       "      <td>0.000507</td>\n",
       "      <td>0.000335</td>\n",
       "      <td>0.006402</td>\n",
       "      <td>0.007000</td>\n",
       "      <td>0.034362</td>\n",
       "      <td>0.267395</td>\n",
       "      <td>0.265474</td>\n",
       "      <td>1.899974</td>\n",
       "    </tr>\n",
       "    <tr>\n",
       "      <th>std</th>\n",
       "      <td>102790.175348</td>\n",
       "      <td>0.272419</td>\n",
       "      <td>0.722121</td>\n",
       "      <td>2.371231e+05</td>\n",
       "      <td>4.024908e+05</td>\n",
       "      <td>14493.737315</td>\n",
       "      <td>3.694465e+05</td>\n",
       "      <td>0.013831</td>\n",
       "      <td>4363.988632</td>\n",
       "      <td>141275.766519</td>\n",
       "      <td>...</td>\n",
       "      <td>0.089798</td>\n",
       "      <td>0.024387</td>\n",
       "      <td>0.022518</td>\n",
       "      <td>0.018299</td>\n",
       "      <td>0.083849</td>\n",
       "      <td>0.110757</td>\n",
       "      <td>0.204685</td>\n",
       "      <td>0.916002</td>\n",
       "      <td>0.794056</td>\n",
       "      <td>1.869295</td>\n",
       "    </tr>\n",
       "    <tr>\n",
       "      <th>min</th>\n",
       "      <td>100002.000000</td>\n",
       "      <td>0.000000</td>\n",
       "      <td>0.000000</td>\n",
       "      <td>2.565000e+04</td>\n",
       "      <td>4.500000e+04</td>\n",
       "      <td>1615.500000</td>\n",
       "      <td>4.050000e+04</td>\n",
       "      <td>0.000290</td>\n",
       "      <td>-25229.000000</td>\n",
       "      <td>-17912.000000</td>\n",
       "      <td>...</td>\n",
       "      <td>0.000000</td>\n",
       "      <td>0.000000</td>\n",
       "      <td>0.000000</td>\n",
       "      <td>0.000000</td>\n",
       "      <td>0.000000</td>\n",
       "      <td>0.000000</td>\n",
       "      <td>0.000000</td>\n",
       "      <td>0.000000</td>\n",
       "      <td>0.000000</td>\n",
       "      <td>0.000000</td>\n",
       "    </tr>\n",
       "    <tr>\n",
       "      <th>25%</th>\n",
       "      <td>189145.500000</td>\n",
       "      <td>0.000000</td>\n",
       "      <td>0.000000</td>\n",
       "      <td>1.125000e+05</td>\n",
       "      <td>2.700000e+05</td>\n",
       "      <td>16524.000000</td>\n",
       "      <td>2.385000e+05</td>\n",
       "      <td>0.010006</td>\n",
       "      <td>-19682.000000</td>\n",
       "      <td>-2760.000000</td>\n",
       "      <td>...</td>\n",
       "      <td>0.000000</td>\n",
       "      <td>0.000000</td>\n",
       "      <td>0.000000</td>\n",
       "      <td>0.000000</td>\n",
       "      <td>0.000000</td>\n",
       "      <td>0.000000</td>\n",
       "      <td>0.000000</td>\n",
       "      <td>0.000000</td>\n",
       "      <td>0.000000</td>\n",
       "      <td>0.000000</td>\n",
       "    </tr>\n",
       "    <tr>\n",
       "      <th>50%</th>\n",
       "      <td>278202.000000</td>\n",
       "      <td>0.000000</td>\n",
       "      <td>0.000000</td>\n",
       "      <td>1.471500e+05</td>\n",
       "      <td>5.135310e+05</td>\n",
       "      <td>24903.000000</td>\n",
       "      <td>4.500000e+05</td>\n",
       "      <td>0.018850</td>\n",
       "      <td>-15750.000000</td>\n",
       "      <td>-1213.000000</td>\n",
       "      <td>...</td>\n",
       "      <td>0.000000</td>\n",
       "      <td>0.000000</td>\n",
       "      <td>0.000000</td>\n",
       "      <td>0.000000</td>\n",
       "      <td>0.000000</td>\n",
       "      <td>0.000000</td>\n",
       "      <td>0.000000</td>\n",
       "      <td>0.000000</td>\n",
       "      <td>0.000000</td>\n",
       "      <td>1.000000</td>\n",
       "    </tr>\n",
       "    <tr>\n",
       "      <th>75%</th>\n",
       "      <td>367142.500000</td>\n",
       "      <td>0.000000</td>\n",
       "      <td>1.000000</td>\n",
       "      <td>2.025000e+05</td>\n",
       "      <td>8.086500e+05</td>\n",
       "      <td>34596.000000</td>\n",
       "      <td>6.795000e+05</td>\n",
       "      <td>0.028663</td>\n",
       "      <td>-12413.000000</td>\n",
       "      <td>-289.000000</td>\n",
       "      <td>...</td>\n",
       "      <td>0.000000</td>\n",
       "      <td>0.000000</td>\n",
       "      <td>0.000000</td>\n",
       "      <td>0.000000</td>\n",
       "      <td>0.000000</td>\n",
       "      <td>0.000000</td>\n",
       "      <td>0.000000</td>\n",
       "      <td>0.000000</td>\n",
       "      <td>0.000000</td>\n",
       "      <td>3.000000</td>\n",
       "    </tr>\n",
       "    <tr>\n",
       "      <th>max</th>\n",
       "      <td>456255.000000</td>\n",
       "      <td>1.000000</td>\n",
       "      <td>19.000000</td>\n",
       "      <td>1.170000e+08</td>\n",
       "      <td>4.050000e+06</td>\n",
       "      <td>258025.500000</td>\n",
       "      <td>4.050000e+06</td>\n",
       "      <td>0.072508</td>\n",
       "      <td>-7489.000000</td>\n",
       "      <td>365243.000000</td>\n",
       "      <td>...</td>\n",
       "      <td>1.000000</td>\n",
       "      <td>1.000000</td>\n",
       "      <td>1.000000</td>\n",
       "      <td>1.000000</td>\n",
       "      <td>4.000000</td>\n",
       "      <td>9.000000</td>\n",
       "      <td>8.000000</td>\n",
       "      <td>27.000000</td>\n",
       "      <td>261.000000</td>\n",
       "      <td>25.000000</td>\n",
       "    </tr>\n",
       "  </tbody>\n",
       "</table>\n",
       "<p>8 rows × 106 columns</p>\n",
       "</div>"
      ],
      "text/plain": [
       "          SK_ID_CURR         TARGET   CNT_CHILDREN  AMT_INCOME_TOTAL  \\\n",
       "count  307511.000000  307511.000000  307511.000000      3.075110e+05   \n",
       "mean   278180.518577       0.080729       0.417052      1.687979e+05   \n",
       "std    102790.175348       0.272419       0.722121      2.371231e+05   \n",
       "min    100002.000000       0.000000       0.000000      2.565000e+04   \n",
       "25%    189145.500000       0.000000       0.000000      1.125000e+05   \n",
       "50%    278202.000000       0.000000       0.000000      1.471500e+05   \n",
       "75%    367142.500000       0.000000       1.000000      2.025000e+05   \n",
       "max    456255.000000       1.000000      19.000000      1.170000e+08   \n",
       "\n",
       "         AMT_CREDIT    AMT_ANNUITY  AMT_GOODS_PRICE  \\\n",
       "count  3.075110e+05  307499.000000     3.072330e+05   \n",
       "mean   5.990260e+05   27108.573909     5.383962e+05   \n",
       "std    4.024908e+05   14493.737315     3.694465e+05   \n",
       "min    4.500000e+04    1615.500000     4.050000e+04   \n",
       "25%    2.700000e+05   16524.000000     2.385000e+05   \n",
       "50%    5.135310e+05   24903.000000     4.500000e+05   \n",
       "75%    8.086500e+05   34596.000000     6.795000e+05   \n",
       "max    4.050000e+06  258025.500000     4.050000e+06   \n",
       "\n",
       "       REGION_POPULATION_RELATIVE     DAYS_BIRTH  DAYS_EMPLOYED  ...  \\\n",
       "count               307511.000000  307511.000000  307511.000000  ...   \n",
       "mean                     0.020868  -16036.995067   63815.045904  ...   \n",
       "std                      0.013831    4363.988632  141275.766519  ...   \n",
       "min                      0.000290  -25229.000000  -17912.000000  ...   \n",
       "25%                      0.010006  -19682.000000   -2760.000000  ...   \n",
       "50%                      0.018850  -15750.000000   -1213.000000  ...   \n",
       "75%                      0.028663  -12413.000000    -289.000000  ...   \n",
       "max                      0.072508   -7489.000000  365243.000000  ...   \n",
       "\n",
       "       FLAG_DOCUMENT_18  FLAG_DOCUMENT_19  FLAG_DOCUMENT_20  FLAG_DOCUMENT_21  \\\n",
       "count     307511.000000     307511.000000     307511.000000     307511.000000   \n",
       "mean           0.008130          0.000595          0.000507          0.000335   \n",
       "std            0.089798          0.024387          0.022518          0.018299   \n",
       "min            0.000000          0.000000          0.000000          0.000000   \n",
       "25%            0.000000          0.000000          0.000000          0.000000   \n",
       "50%            0.000000          0.000000          0.000000          0.000000   \n",
       "75%            0.000000          0.000000          0.000000          0.000000   \n",
       "max            1.000000          1.000000          1.000000          1.000000   \n",
       "\n",
       "       AMT_REQ_CREDIT_BUREAU_HOUR  AMT_REQ_CREDIT_BUREAU_DAY  \\\n",
       "count               265992.000000              265992.000000   \n",
       "mean                     0.006402                   0.007000   \n",
       "std                      0.083849                   0.110757   \n",
       "min                      0.000000                   0.000000   \n",
       "25%                      0.000000                   0.000000   \n",
       "50%                      0.000000                   0.000000   \n",
       "75%                      0.000000                   0.000000   \n",
       "max                      4.000000                   9.000000   \n",
       "\n",
       "       AMT_REQ_CREDIT_BUREAU_WEEK  AMT_REQ_CREDIT_BUREAU_MON  \\\n",
       "count               265992.000000              265992.000000   \n",
       "mean                     0.034362                   0.267395   \n",
       "std                      0.204685                   0.916002   \n",
       "min                      0.000000                   0.000000   \n",
       "25%                      0.000000                   0.000000   \n",
       "50%                      0.000000                   0.000000   \n",
       "75%                      0.000000                   0.000000   \n",
       "max                      8.000000                  27.000000   \n",
       "\n",
       "       AMT_REQ_CREDIT_BUREAU_QRT  AMT_REQ_CREDIT_BUREAU_YEAR  \n",
       "count              265992.000000               265992.000000  \n",
       "mean                    0.265474                    1.899974  \n",
       "std                     0.794056                    1.869295  \n",
       "min                     0.000000                    0.000000  \n",
       "25%                     0.000000                    0.000000  \n",
       "50%                     0.000000                    1.000000  \n",
       "75%                     0.000000                    3.000000  \n",
       "max                   261.000000                   25.000000  \n",
       "\n",
       "[8 rows x 106 columns]"
      ]
     },
     "execution_count": 5,
     "metadata": {},
     "output_type": "execute_result"
    }
   ],
   "source": [
    "data.describe()"
   ]
  },
  {
   "cell_type": "markdown",
   "metadata": {},
   "source": [
    "Dropping the columns that store the Normalized information about building where the client lives"
   ]
  },
  {
   "cell_type": "code",
   "execution_count": 6,
   "metadata": {
    "id": "LPtUTypNGHbF"
   },
   "outputs": [],
   "source": [
    "MODE_cols = [col for col in data.columns if '_MODE' in col]\n",
    "data.drop(columns = MODE_cols,inplace=True)\n",
    "MEDI_cols = [col for col in data.columns if '_MEDI' in col]\n",
    "data.drop(columns = MEDI_cols,inplace=True)\n",
    "AVG_cols = [col for col in data.columns if '_AVG' in col]\n",
    "data.drop(columns = AVG_cols,inplace=True)"
   ]
  },
  {
   "cell_type": "markdown",
   "metadata": {},
   "source": [
    "Find all the columns starting with name FLAG_DOCUMENT , as these are just FLAGS indicating document submission and can be dropped"
   ]
  },
  {
   "cell_type": "code",
   "execution_count": 7,
   "metadata": {
    "id": "cipirbE-GWRw"
   },
   "outputs": [],
   "source": [
    "temp=data.filter(regex='^FLAG_DOCUMENT',axis=1)"
   ]
  },
  {
   "cell_type": "markdown",
   "metadata": {},
   "source": [
    "Drop the FLAG_DOCUMENT Columns the column names are stored in temp Series"
   ]
  },
  {
   "cell_type": "code",
   "execution_count": 8,
   "metadata": {
    "id": "jvb4fhnHGZ4f"
   },
   "outputs": [],
   "source": [
    "data.drop(columns=temp.columns,inplace=True)"
   ]
  },
  {
   "cell_type": "markdown",
   "metadata": {},
   "source": [
    "These columns 'FLAG_MOBIL','FLAG_EMP_PHONE','FLAG_WORK_PHONE','FLAG_CONT_MOBILE','FLAG_PHONE','FLAG_EMAIL' \n",
    "are FLAGS which need not be used in analysis so drop them"
   ]
  },
  {
   "cell_type": "code",
   "execution_count": 9,
   "metadata": {
    "id": "_QgzaVrVGeC9"
   },
   "outputs": [],
   "source": [
    "data.drop(columns=['FLAG_MOBIL',\n",
    "                           'FLAG_EMP_PHONE',\n",
    "                           'FLAG_WORK_PHONE',\n",
    "                           'FLAG_CONT_MOBILE',\n",
    "                           'FLAG_PHONE',\n",
    "                            'FLAG_EMAIL'],inplace=True)"
   ]
  },
  {
   "cell_type": "code",
   "execution_count": 10,
   "metadata": {
    "colab": {
     "base_uri": "https://localhost:8080/"
    },
    "id": "Uy_OmpClGiy7",
    "outputId": "4067346e-401b-46ad-f6f5-11960b6caab0",
    "scrolled": true
   },
   "outputs": [
    {
     "data": {
      "text/plain": [
       "OWN_CAR_AGE                    202929\n",
       "EXT_SOURCE_1                   173378\n",
       "OCCUPATION_TYPE                 96391\n",
       "EXT_SOURCE_3                    60965\n",
       "AMT_REQ_CREDIT_BUREAU_YEAR      41519\n",
       "AMT_REQ_CREDIT_BUREAU_QRT       41519\n",
       "AMT_REQ_CREDIT_BUREAU_MON       41519\n",
       "AMT_REQ_CREDIT_BUREAU_WEEK      41519\n",
       "AMT_REQ_CREDIT_BUREAU_DAY       41519\n",
       "AMT_REQ_CREDIT_BUREAU_HOUR      41519\n",
       "NAME_TYPE_SUITE                  1292\n",
       "OBS_30_CNT_SOCIAL_CIRCLE         1021\n",
       "DEF_30_CNT_SOCIAL_CIRCLE         1021\n",
       "OBS_60_CNT_SOCIAL_CIRCLE         1021\n",
       "DEF_60_CNT_SOCIAL_CIRCLE         1021\n",
       "EXT_SOURCE_2                      660\n",
       "AMT_GOODS_PRICE                   278\n",
       "AMT_ANNUITY                        12\n",
       "CNT_FAM_MEMBERS                     2\n",
       "DAYS_LAST_PHONE_CHANGE              1\n",
       "REG_REGION_NOT_LIVE_REGION          0\n",
       "ORGANIZATION_TYPE                   0\n",
       "LIVE_CITY_NOT_WORK_CITY             0\n",
       "REG_CITY_NOT_WORK_CITY              0\n",
       "REG_CITY_NOT_LIVE_CITY              0\n",
       "LIVE_REGION_NOT_WORK_REGION         0\n",
       "REG_REGION_NOT_WORK_REGION          0\n",
       "SK_ID_CURR                          0\n",
       "HOUR_APPR_PROCESS_START             0\n",
       "NAME_EDUCATION_TYPE                 0\n",
       "NAME_CONTRACT_TYPE                  0\n",
       "CODE_GENDER                         0\n",
       "FLAG_OWN_CAR                        0\n",
       "FLAG_OWN_REALTY                     0\n",
       "CNT_CHILDREN                        0\n",
       "AMT_INCOME_TOTAL                    0\n",
       "AMT_CREDIT                          0\n",
       "NAME_INCOME_TYPE                    0\n",
       "NAME_FAMILY_STATUS                  0\n",
       "WEEKDAY_APPR_PROCESS_START          0\n",
       "NAME_HOUSING_TYPE                   0\n",
       "REGION_POPULATION_RELATIVE          0\n",
       "DAYS_BIRTH                          0\n",
       "DAYS_EMPLOYED                       0\n",
       "DAYS_REGISTRATION                   0\n",
       "DAYS_ID_PUBLISH                     0\n",
       "TARGET                              0\n",
       "REGION_RATING_CLIENT_W_CITY         0\n",
       "REGION_RATING_CLIENT                0\n",
       "dtype: int64"
      ]
     },
     "execution_count": 10,
     "metadata": {},
     "output_type": "execute_result"
    }
   ],
   "source": [
    "data.isnull().sum().sort_values(ascending=False)"
   ]
  },
  {
   "cell_type": "markdown",
   "metadata": {},
   "source": [
    "Percentage of null values in each column\n"
   ]
  },
  {
   "cell_type": "code",
   "execution_count": 11,
   "metadata": {
    "colab": {
     "base_uri": "https://localhost:8080/"
    },
    "id": "Vcm3J_h2FjLR",
    "outputId": "b1f065c1-b350-4782-f45b-fb448dbab954"
   },
   "outputs": [
    {
     "data": {
      "text/plain": [
       "OWN_CAR_AGE                    65.990810\n",
       "EXT_SOURCE_1                   56.381073\n",
       "OCCUPATION_TYPE                31.345545\n",
       "EXT_SOURCE_3                   19.825307\n",
       "AMT_REQ_CREDIT_BUREAU_YEAR     13.501631\n",
       "AMT_REQ_CREDIT_BUREAU_QRT      13.501631\n",
       "AMT_REQ_CREDIT_BUREAU_MON      13.501631\n",
       "AMT_REQ_CREDIT_BUREAU_WEEK     13.501631\n",
       "AMT_REQ_CREDIT_BUREAU_DAY      13.501631\n",
       "AMT_REQ_CREDIT_BUREAU_HOUR     13.501631\n",
       "NAME_TYPE_SUITE                 0.420148\n",
       "OBS_30_CNT_SOCIAL_CIRCLE        0.332021\n",
       "DEF_30_CNT_SOCIAL_CIRCLE        0.332021\n",
       "OBS_60_CNT_SOCIAL_CIRCLE        0.332021\n",
       "DEF_60_CNT_SOCIAL_CIRCLE        0.332021\n",
       "EXT_SOURCE_2                    0.214626\n",
       "AMT_GOODS_PRICE                 0.090403\n",
       "AMT_ANNUITY                     0.003902\n",
       "CNT_FAM_MEMBERS                 0.000650\n",
       "DAYS_LAST_PHONE_CHANGE          0.000325\n",
       "REG_REGION_NOT_LIVE_REGION      0.000000\n",
       "ORGANIZATION_TYPE               0.000000\n",
       "LIVE_CITY_NOT_WORK_CITY         0.000000\n",
       "REG_CITY_NOT_WORK_CITY          0.000000\n",
       "REG_CITY_NOT_LIVE_CITY          0.000000\n",
       "LIVE_REGION_NOT_WORK_REGION     0.000000\n",
       "REG_REGION_NOT_WORK_REGION      0.000000\n",
       "SK_ID_CURR                      0.000000\n",
       "HOUR_APPR_PROCESS_START         0.000000\n",
       "NAME_EDUCATION_TYPE             0.000000\n",
       "NAME_CONTRACT_TYPE              0.000000\n",
       "CODE_GENDER                     0.000000\n",
       "FLAG_OWN_CAR                    0.000000\n",
       "FLAG_OWN_REALTY                 0.000000\n",
       "CNT_CHILDREN                    0.000000\n",
       "AMT_INCOME_TOTAL                0.000000\n",
       "AMT_CREDIT                      0.000000\n",
       "NAME_INCOME_TYPE                0.000000\n",
       "NAME_FAMILY_STATUS              0.000000\n",
       "WEEKDAY_APPR_PROCESS_START      0.000000\n",
       "NAME_HOUSING_TYPE               0.000000\n",
       "REGION_POPULATION_RELATIVE      0.000000\n",
       "DAYS_BIRTH                      0.000000\n",
       "DAYS_EMPLOYED                   0.000000\n",
       "DAYS_REGISTRATION               0.000000\n",
       "DAYS_ID_PUBLISH                 0.000000\n",
       "TARGET                          0.000000\n",
       "REGION_RATING_CLIENT_W_CITY     0.000000\n",
       "REGION_RATING_CLIENT            0.000000\n",
       "dtype: float64"
      ]
     },
     "execution_count": 11,
     "metadata": {},
     "output_type": "execute_result"
    }
   ],
   "source": [
    "col_with_nullvalues=data.isnull().sum()/len(data)*100\n",
    "col_with_nullvalues.sort_values(ascending=False)"
   ]
  },
  {
   "cell_type": "markdown",
   "metadata": {},
   "source": [
    "List the columns having more than 50% missing values\n"
   ]
  },
  {
   "cell_type": "code",
   "execution_count": 12,
   "metadata": {
    "colab": {
     "base_uri": "https://localhost:8080/"
    },
    "id": "yEQX_2tSGs9F",
    "outputId": "965d4b63-baa7-4da0-d77d-0a5792a92dea"
   },
   "outputs": [
    {
     "data": {
      "text/plain": [
       "OWN_CAR_AGE     65.990810\n",
       "EXT_SOURCE_1    56.381073\n",
       "dtype: float64"
      ]
     },
     "execution_count": 12,
     "metadata": {},
     "output_type": "execute_result"
    }
   ],
   "source": [
    "nullvalues_50=col_with_nullvalues[col_with_nullvalues.values>50.0].sort_values(ascending=False)\n",
    "nullvalues_50"
   ]
  },
  {
   "cell_type": "code",
   "execution_count": 13,
   "metadata": {
    "colab": {
     "base_uri": "https://localhost:8080/"
    },
    "id": "UGfm0oOZGxbc",
    "outputId": "c98521c5-04bb-4eab-e6e1-3376b925098c"
   },
   "outputs": [
    {
     "data": {
      "text/plain": [
       "(307511, 49)"
      ]
     },
     "execution_count": 13,
     "metadata": {},
     "output_type": "execute_result"
    }
   ],
   "source": [
    "data.shape"
   ]
  },
  {
   "cell_type": "markdown",
   "metadata": {},
   "source": [
    "Drop the columns with 60 % or more null values\n"
   ]
  },
  {
   "cell_type": "code",
   "execution_count": 14,
   "metadata": {
    "colab": {
     "base_uri": "https://localhost:8080/"
    },
    "id": "_TIrPfuYGzHs",
    "outputId": "2969e724-1e23-4cc0-d224-e7992217539e"
   },
   "outputs": [
    {
     "name": "stdout",
     "output_type": "stream",
     "text": [
      "1\n"
     ]
    }
   ],
   "source": [
    "col_with_nullvalues = list(col_with_nullvalues[col_with_nullvalues.values>=60.0].index)\n",
    "data.drop(labels=col_with_nullvalues,axis=1,inplace=True)\n",
    "print(len(col_with_nullvalues))"
   ]
  },
  {
   "cell_type": "markdown",
   "metadata": {},
   "source": [
    "Checking the columns having less null percentage\n"
   ]
  },
  {
   "cell_type": "code",
   "execution_count": 15,
   "metadata": {
    "colab": {
     "base_uri": "https://localhost:8080/"
    },
    "id": "zTl5ZyvXG2rD",
    "outputId": "720595d9-8af5-4cc6-b157-43927c5bb4cc",
    "scrolled": true
   },
   "outputs": [
    {
     "data": {
      "text/plain": [
       "SK_ID_CURR                      0.000000\n",
       "TARGET                          0.000000\n",
       "NAME_CONTRACT_TYPE              0.000000\n",
       "CODE_GENDER                     0.000000\n",
       "FLAG_OWN_CAR                    0.000000\n",
       "FLAG_OWN_REALTY                 0.000000\n",
       "CNT_CHILDREN                    0.000000\n",
       "AMT_INCOME_TOTAL                0.000000\n",
       "AMT_CREDIT                      0.000000\n",
       "AMT_ANNUITY                     0.003902\n",
       "AMT_GOODS_PRICE                 0.090403\n",
       "NAME_TYPE_SUITE                 0.420148\n",
       "NAME_INCOME_TYPE                0.000000\n",
       "NAME_EDUCATION_TYPE             0.000000\n",
       "NAME_FAMILY_STATUS              0.000000\n",
       "NAME_HOUSING_TYPE               0.000000\n",
       "REGION_POPULATION_RELATIVE      0.000000\n",
       "DAYS_BIRTH                      0.000000\n",
       "DAYS_EMPLOYED                   0.000000\n",
       "DAYS_REGISTRATION               0.000000\n",
       "DAYS_ID_PUBLISH                 0.000000\n",
       "OCCUPATION_TYPE                31.345545\n",
       "CNT_FAM_MEMBERS                 0.000650\n",
       "REGION_RATING_CLIENT            0.000000\n",
       "REGION_RATING_CLIENT_W_CITY     0.000000\n",
       "WEEKDAY_APPR_PROCESS_START      0.000000\n",
       "HOUR_APPR_PROCESS_START         0.000000\n",
       "REG_REGION_NOT_LIVE_REGION      0.000000\n",
       "REG_REGION_NOT_WORK_REGION      0.000000\n",
       "LIVE_REGION_NOT_WORK_REGION     0.000000\n",
       "REG_CITY_NOT_LIVE_CITY          0.000000\n",
       "REG_CITY_NOT_WORK_CITY          0.000000\n",
       "LIVE_CITY_NOT_WORK_CITY         0.000000\n",
       "ORGANIZATION_TYPE               0.000000\n",
       "EXT_SOURCE_1                   56.381073\n",
       "EXT_SOURCE_2                    0.214626\n",
       "EXT_SOURCE_3                   19.825307\n",
       "OBS_30_CNT_SOCIAL_CIRCLE        0.332021\n",
       "DEF_30_CNT_SOCIAL_CIRCLE        0.332021\n",
       "OBS_60_CNT_SOCIAL_CIRCLE        0.332021\n",
       "DEF_60_CNT_SOCIAL_CIRCLE        0.332021\n",
       "DAYS_LAST_PHONE_CHANGE          0.000325\n",
       "AMT_REQ_CREDIT_BUREAU_HOUR     13.501631\n",
       "AMT_REQ_CREDIT_BUREAU_DAY      13.501631\n",
       "AMT_REQ_CREDIT_BUREAU_WEEK     13.501631\n",
       "AMT_REQ_CREDIT_BUREAU_MON      13.501631\n",
       "AMT_REQ_CREDIT_BUREAU_QRT      13.501631\n",
       "AMT_REQ_CREDIT_BUREAU_YEAR     13.501631\n",
       "dtype: float64"
      ]
     },
     "execution_count": 15,
     "metadata": {},
     "output_type": "execute_result"
    }
   ],
   "source": [
    "data.isnull().sum()/len(data)*100"
   ]
  },
  {
   "cell_type": "markdown",
   "metadata": {},
   "source": [
    "Columns with int64 data types have 2 unique values and are flags, these columns cannot be used in bivariate analysis as they are not categorical."
   ]
  },
  {
   "cell_type": "code",
   "execution_count": 16,
   "metadata": {
    "colab": {
     "base_uri": "https://localhost:8080/"
    },
    "id": "g-r6qsbfG6hk",
    "outputId": "968ae09c-c1a9-4854-e36f-ce373705ea23"
   },
   "outputs": [
    {
     "data": {
      "text/plain": [
       "SK_ID_CURR                     307511\n",
       "TARGET                              2\n",
       "CNT_CHILDREN                       15\n",
       "DAYS_BIRTH                      17460\n",
       "DAYS_EMPLOYED                   12574\n",
       "DAYS_ID_PUBLISH                  6168\n",
       "REGION_RATING_CLIENT                3\n",
       "REGION_RATING_CLIENT_W_CITY         3\n",
       "HOUR_APPR_PROCESS_START            24\n",
       "REG_REGION_NOT_LIVE_REGION          2\n",
       "REG_REGION_NOT_WORK_REGION          2\n",
       "LIVE_REGION_NOT_WORK_REGION         2\n",
       "REG_CITY_NOT_LIVE_CITY              2\n",
       "REG_CITY_NOT_WORK_CITY              2\n",
       "LIVE_CITY_NOT_WORK_CITY             2\n",
       "dtype: int64"
      ]
     },
     "execution_count": 16,
     "metadata": {},
     "output_type": "execute_result"
    }
   ],
   "source": [
    "data.select_dtypes('int64').apply(pd.Series.nunique, axis = 0)"
   ]
  },
  {
   "cell_type": "markdown",
   "metadata": {},
   "source": [
    "Let us drop these columns as they have high null values and also their relevance in the analysis is insignificance, we can may be keep one such column 'AMT_REQ_CREDIT_BUREAU_QRT' which could be helpful."
   ]
  },
  {
   "cell_type": "code",
   "execution_count": 17,
   "metadata": {
    "id": "glbyCgI8G-gG"
   },
   "outputs": [],
   "source": [
    "data.drop(columns = ['AMT_REQ_CREDIT_BUREAU_YEAR',\n",
    "                             'AMT_REQ_CREDIT_BUREAU_MON',\n",
    "                             'AMT_REQ_CREDIT_BUREAU_WEEK',\n",
    "                             'AMT_REQ_CREDIT_BUREAU_DAY',\n",
    "                             'AMT_REQ_CREDIT_BUREAU_HOUR'],inplace=True)"
   ]
  },
  {
   "cell_type": "code",
   "execution_count": 18,
   "metadata": {
    "id": "X_3QKNv7HEUL"
   },
   "outputs": [],
   "source": [
    "data.drop(columns = ['REG_REGION_NOT_LIVE_REGION',\n",
    "                             'REG_REGION_NOT_WORK_REGION',\n",
    "                             'LIVE_REGION_NOT_WORK_REGION',\n",
    "                             'REG_CITY_NOT_LIVE_CITY',\n",
    "                             'REG_CITY_NOT_WORK_CITY',\n",
    "                            'LIVE_CITY_NOT_WORK_CITY'],inplace=True)"
   ]
  },
  {
   "cell_type": "code",
   "execution_count": 19,
   "metadata": {
    "colab": {
     "base_uri": "https://localhost:8080/"
    },
    "id": "tzMbk6sBHGpA",
    "outputId": "10ae1325-b228-421f-c4c9-e93ce5d3123c"
   },
   "outputs": [
    {
     "data": {
      "text/plain": [
       "(307511, 37)"
      ]
     },
     "execution_count": 19,
     "metadata": {},
     "output_type": "execute_result"
    }
   ],
   "source": [
    "data.shape"
   ]
  },
  {
   "cell_type": "code",
   "execution_count": 20,
   "metadata": {
    "colab": {
     "base_uri": "https://localhost:8080/"
    },
    "id": "XfzvNK8VHJe9",
    "outputId": "986564df-b906-4195-bdc3-d7c6f6959bd2"
   },
   "outputs": [
    {
     "name": "stdout",
     "output_type": "stream",
     "text": [
      "<class 'pandas.core.frame.DataFrame'>\n",
      "RangeIndex: 307511 entries, 0 to 307510\n",
      "Data columns (total 37 columns):\n",
      " #   Column                       Non-Null Count   Dtype  \n",
      "---  ------                       --------------   -----  \n",
      " 0   SK_ID_CURR                   307511 non-null  int64  \n",
      " 1   TARGET                       307511 non-null  int64  \n",
      " 2   NAME_CONTRACT_TYPE           307511 non-null  object \n",
      " 3   CODE_GENDER                  307511 non-null  object \n",
      " 4   FLAG_OWN_CAR                 307511 non-null  object \n",
      " 5   FLAG_OWN_REALTY              307511 non-null  object \n",
      " 6   CNT_CHILDREN                 307511 non-null  int64  \n",
      " 7   AMT_INCOME_TOTAL             307511 non-null  float64\n",
      " 8   AMT_CREDIT                   307511 non-null  float64\n",
      " 9   AMT_ANNUITY                  307499 non-null  float64\n",
      " 10  AMT_GOODS_PRICE              307233 non-null  float64\n",
      " 11  NAME_TYPE_SUITE              306219 non-null  object \n",
      " 12  NAME_INCOME_TYPE             307511 non-null  object \n",
      " 13  NAME_EDUCATION_TYPE          307511 non-null  object \n",
      " 14  NAME_FAMILY_STATUS           307511 non-null  object \n",
      " 15  NAME_HOUSING_TYPE            307511 non-null  object \n",
      " 16  REGION_POPULATION_RELATIVE   307511 non-null  float64\n",
      " 17  DAYS_BIRTH                   307511 non-null  int64  \n",
      " 18  DAYS_EMPLOYED                307511 non-null  int64  \n",
      " 19  DAYS_REGISTRATION            307511 non-null  float64\n",
      " 20  DAYS_ID_PUBLISH              307511 non-null  int64  \n",
      " 21  OCCUPATION_TYPE              211120 non-null  object \n",
      " 22  CNT_FAM_MEMBERS              307509 non-null  float64\n",
      " 23  REGION_RATING_CLIENT         307511 non-null  int64  \n",
      " 24  REGION_RATING_CLIENT_W_CITY  307511 non-null  int64  \n",
      " 25  WEEKDAY_APPR_PROCESS_START   307511 non-null  object \n",
      " 26  HOUR_APPR_PROCESS_START      307511 non-null  int64  \n",
      " 27  ORGANIZATION_TYPE            307511 non-null  object \n",
      " 28  EXT_SOURCE_1                 134133 non-null  float64\n",
      " 29  EXT_SOURCE_2                 306851 non-null  float64\n",
      " 30  EXT_SOURCE_3                 246546 non-null  float64\n",
      " 31  OBS_30_CNT_SOCIAL_CIRCLE     306490 non-null  float64\n",
      " 32  DEF_30_CNT_SOCIAL_CIRCLE     306490 non-null  float64\n",
      " 33  OBS_60_CNT_SOCIAL_CIRCLE     306490 non-null  float64\n",
      " 34  DEF_60_CNT_SOCIAL_CIRCLE     306490 non-null  float64\n",
      " 35  DAYS_LAST_PHONE_CHANGE       307510 non-null  float64\n",
      " 36  AMT_REQ_CREDIT_BUREAU_QRT    265992 non-null  float64\n",
      "dtypes: float64(16), int64(9), object(12)\n",
      "memory usage: 86.8+ MB\n"
     ]
    }
   ],
   "source": [
    "data.info()"
   ]
  },
  {
   "cell_type": "code",
   "execution_count": 21,
   "metadata": {
    "id": "H06bHq_DHLoK"
   },
   "outputs": [],
   "source": [
    "#Sanity Check for columns and converting the negative values to positive values\n",
    "data['DAYS_BIRTH'] = abs(data['DAYS_BIRTH'])\n",
    "data['DAYS_ID_PUBLISH'] = abs(data['DAYS_ID_PUBLISH'])\n",
    "data['DAYS_EMPLOYED'] = abs(data['DAYS_EMPLOYED'])\n",
    "data['DAYS_REGISTRATION'] = abs(data['DAYS_REGISTRATION'])"
   ]
  },
  {
   "cell_type": "code",
   "execution_count": 22,
   "metadata": {
    "colab": {
     "base_uri": "https://localhost:8080/",
     "height": 235
    },
    "id": "3iWDZOn0HOPG",
    "outputId": "c57f9648-64ae-434b-8412-1c170a599440"
   },
   "outputs": [
    {
     "data": {
      "text/html": [
       "<div>\n",
       "<style scoped>\n",
       "    .dataframe tbody tr th:only-of-type {\n",
       "        vertical-align: middle;\n",
       "    }\n",
       "\n",
       "    .dataframe tbody tr th {\n",
       "        vertical-align: top;\n",
       "    }\n",
       "\n",
       "    .dataframe thead th {\n",
       "        text-align: right;\n",
       "    }\n",
       "</style>\n",
       "<table border=\"1\" class=\"dataframe\">\n",
       "  <thead>\n",
       "    <tr style=\"text-align: right;\">\n",
       "      <th></th>\n",
       "      <th>SK_ID_CURR</th>\n",
       "      <th>TARGET</th>\n",
       "      <th>NAME_CONTRACT_TYPE</th>\n",
       "      <th>CODE_GENDER</th>\n",
       "      <th>FLAG_OWN_CAR</th>\n",
       "      <th>FLAG_OWN_REALTY</th>\n",
       "      <th>CNT_CHILDREN</th>\n",
       "      <th>AMT_INCOME_TOTAL</th>\n",
       "      <th>AMT_CREDIT</th>\n",
       "      <th>AMT_ANNUITY</th>\n",
       "      <th>...</th>\n",
       "      <th>ORGANIZATION_TYPE</th>\n",
       "      <th>EXT_SOURCE_1</th>\n",
       "      <th>EXT_SOURCE_2</th>\n",
       "      <th>EXT_SOURCE_3</th>\n",
       "      <th>OBS_30_CNT_SOCIAL_CIRCLE</th>\n",
       "      <th>DEF_30_CNT_SOCIAL_CIRCLE</th>\n",
       "      <th>OBS_60_CNT_SOCIAL_CIRCLE</th>\n",
       "      <th>DEF_60_CNT_SOCIAL_CIRCLE</th>\n",
       "      <th>DAYS_LAST_PHONE_CHANGE</th>\n",
       "      <th>AMT_REQ_CREDIT_BUREAU_QRT</th>\n",
       "    </tr>\n",
       "  </thead>\n",
       "  <tbody>\n",
       "    <tr>\n",
       "      <th>count</th>\n",
       "      <td>307511</td>\n",
       "      <td>307511</td>\n",
       "      <td>307511</td>\n",
       "      <td>307511</td>\n",
       "      <td>307511</td>\n",
       "      <td>307511</td>\n",
       "      <td>307511</td>\n",
       "      <td>307511</td>\n",
       "      <td>307511</td>\n",
       "      <td>307499</td>\n",
       "      <td>...</td>\n",
       "      <td>307511</td>\n",
       "      <td>134133</td>\n",
       "      <td>306851</td>\n",
       "      <td>246546</td>\n",
       "      <td>306490</td>\n",
       "      <td>306490</td>\n",
       "      <td>306490</td>\n",
       "      <td>306490</td>\n",
       "      <td>307510</td>\n",
       "      <td>265992</td>\n",
       "    </tr>\n",
       "    <tr>\n",
       "      <th>size</th>\n",
       "      <td>307511</td>\n",
       "      <td>307511</td>\n",
       "      <td>307511</td>\n",
       "      <td>307511</td>\n",
       "      <td>307511</td>\n",
       "      <td>307511</td>\n",
       "      <td>307511</td>\n",
       "      <td>307511</td>\n",
       "      <td>307511</td>\n",
       "      <td>307511</td>\n",
       "      <td>...</td>\n",
       "      <td>307511</td>\n",
       "      <td>307511</td>\n",
       "      <td>307511</td>\n",
       "      <td>307511</td>\n",
       "      <td>307511</td>\n",
       "      <td>307511</td>\n",
       "      <td>307511</td>\n",
       "      <td>307511</td>\n",
       "      <td>307511</td>\n",
       "      <td>307511</td>\n",
       "    </tr>\n",
       "    <tr>\n",
       "      <th>nunique</th>\n",
       "      <td>307511</td>\n",
       "      <td>2</td>\n",
       "      <td>2</td>\n",
       "      <td>3</td>\n",
       "      <td>2</td>\n",
       "      <td>2</td>\n",
       "      <td>15</td>\n",
       "      <td>2548</td>\n",
       "      <td>5603</td>\n",
       "      <td>13672</td>\n",
       "      <td>...</td>\n",
       "      <td>58</td>\n",
       "      <td>114584</td>\n",
       "      <td>119831</td>\n",
       "      <td>814</td>\n",
       "      <td>33</td>\n",
       "      <td>10</td>\n",
       "      <td>33</td>\n",
       "      <td>9</td>\n",
       "      <td>3773</td>\n",
       "      <td>11</td>\n",
       "    </tr>\n",
       "  </tbody>\n",
       "</table>\n",
       "<p>3 rows × 37 columns</p>\n",
       "</div>"
      ],
      "text/plain": [
       "         SK_ID_CURR  TARGET  NAME_CONTRACT_TYPE  CODE_GENDER  FLAG_OWN_CAR  \\\n",
       "count        307511  307511              307511       307511        307511   \n",
       "size         307511  307511              307511       307511        307511   \n",
       "nunique      307511       2                   2            3             2   \n",
       "\n",
       "         FLAG_OWN_REALTY  CNT_CHILDREN  AMT_INCOME_TOTAL  AMT_CREDIT  \\\n",
       "count             307511        307511            307511      307511   \n",
       "size              307511        307511            307511      307511   \n",
       "nunique                2            15              2548        5603   \n",
       "\n",
       "         AMT_ANNUITY  ...  ORGANIZATION_TYPE  EXT_SOURCE_1  EXT_SOURCE_2  \\\n",
       "count         307499  ...             307511        134133        306851   \n",
       "size          307511  ...             307511        307511        307511   \n",
       "nunique        13672  ...                 58        114584        119831   \n",
       "\n",
       "         EXT_SOURCE_3  OBS_30_CNT_SOCIAL_CIRCLE  DEF_30_CNT_SOCIAL_CIRCLE  \\\n",
       "count          246546                    306490                    306490   \n",
       "size           307511                    307511                    307511   \n",
       "nunique           814                        33                        10   \n",
       "\n",
       "         OBS_60_CNT_SOCIAL_CIRCLE  DEF_60_CNT_SOCIAL_CIRCLE  \\\n",
       "count                      306490                    306490   \n",
       "size                       307511                    307511   \n",
       "nunique                        33                         9   \n",
       "\n",
       "         DAYS_LAST_PHONE_CHANGE  AMT_REQ_CREDIT_BUREAU_QRT  \n",
       "count                    307510                     265992  \n",
       "size                     307511                     307511  \n",
       "nunique                    3773                         11  \n",
       "\n",
       "[3 rows x 37 columns]"
      ]
     },
     "execution_count": 22,
     "metadata": {},
     "output_type": "execute_result"
    }
   ],
   "source": [
    "# Get the count,size and unique values in each column of application data\n",
    "data.agg(['count','size','nunique'])"
   ]
  },
  {
   "cell_type": "code",
   "execution_count": 23,
   "metadata": {
    "id": "XLJ0N9GsHsj1"
   },
   "outputs": [],
   "source": [
    "#Checking the distribution of target variable\n",
    "defaulters=data[data.TARGET==1]\n",
    "nondefaulters=data[data.TARGET==0]"
   ]
  },
  {
   "cell_type": "code",
   "execution_count": 24,
   "metadata": {
    "colab": {
     "base_uri": "https://localhost:8080/"
    },
    "id": "ai-u2Jz9Hl7f",
    "outputId": "ece8f280-5fdc-417d-e126-85311ab98ba8"
   },
   "outputs": [
    {
     "data": {
      "text/plain": [
       "91.92711805431351"
      ]
     },
     "execution_count": 24,
     "metadata": {},
     "output_type": "execute_result"
    }
   ],
   "source": [
    "#checking percentage of non-defaulters\n",
    "percentage_nondefaulters=(len(nondefaulters)*100)/len(data)\n",
    "percentage_nondefaulters"
   ]
  },
  {
   "cell_type": "code",
   "execution_count": 25,
   "metadata": {
    "colab": {
     "base_uri": "https://localhost:8080/"
    },
    "id": "G6DuGII-H2kn",
    "outputId": "dc27d93b-d4cf-4fc6-e006-51e659ffcc81",
    "scrolled": true
   },
   "outputs": [
    {
     "data": {
      "text/plain": [
       "8.072881945686495"
      ]
     },
     "execution_count": 25,
     "metadata": {},
     "output_type": "execute_result"
    }
   ],
   "source": [
    "#checking percentage of defaulters\n",
    "percentage_defaulters=(len(defaulters)*100)/len(data)\n",
    "percentage_defaulters"
   ]
  },
  {
   "cell_type": "markdown",
   "metadata": {},
   "source": [
    "Count plot of Defaulters vs Non Defaulters "
   ]
  },
  {
   "cell_type": "code",
   "execution_count": 26,
   "metadata": {
    "colab": {
     "base_uri": "https://localhost:8080/",
     "height": 349
    },
    "id": "Y8PHCrUxH9QC",
    "outputId": "55856540-b300-412c-f791-7c07d54d06d0"
   },
   "outputs": [
    {
     "name": "stderr",
     "output_type": "stream",
     "text": [
      "C:\\ProgramData\\Anaconda3\\lib\\site-packages\\seaborn\\_decorators.py:36: FutureWarning:\n",
      "\n",
      "Pass the following variable as a keyword arg: x. From version 0.12, the only valid positional argument will be `data`, and passing other arguments without an explicit keyword will result in an error or misinterpretation.\n",
      "\n"
     ]
    },
    {
     "data": {
      "image/png": "[encoded data removed]",
      "text/plain": [
       "<Figure size 432x288 with 1 Axes>"
      ]
     },
     "metadata": {
      "needs_background": "light"
     },
     "output_type": "display_data"
    }
   ],
   "source": [
    "sns.countplot(data.TARGET)\n",
    "plt.xlabel(\"TARGET\")\n",
    "plt.ylabel(\"Number of TARGET\")\n",
    "plt.title(\"Distribution of TARGET Variable\")\n",
    "plt.show()"
   ]
  },
  {
   "cell_type": "markdown",
   "metadata": {
    "id": "ozAbwjNNIBE-"
   },
   "source": [
    "Dataset is Imbalenced"
   ]
  },
  {
   "cell_type": "code",
   "execution_count": 27,
   "metadata": {
    "colab": {
     "base_uri": "https://localhost:8080/"
    },
    "id": "UjlZhspzIAPj",
    "outputId": "4f9e7ee8-69fe-4ad8-de60-99f42ed74e61"
   },
   "outputs": [
    {
     "data": {
      "text/plain": [
       "Index(['SK_ID_CURR', 'TARGET', 'CNT_CHILDREN', 'DAYS_BIRTH', 'DAYS_EMPLOYED',\n",
       "       'DAYS_ID_PUBLISH', 'REGION_RATING_CLIENT',\n",
       "       'REGION_RATING_CLIENT_W_CITY', 'HOUR_APPR_PROCESS_START'],\n",
       "      dtype='object')"
      ]
     },
     "execution_count": 27,
     "metadata": {},
     "output_type": "execute_result"
    }
   ],
   "source": [
    "#Looking at the data types of the columns considered for analysis\n",
    "data.select_dtypes('object').columns\n",
    "data.select_dtypes('float64').columns\n",
    "data.select_dtypes('int64').columns"
   ]
  },
  {
   "cell_type": "code",
   "execution_count": 28,
   "metadata": {
    "id": "GG6jVpWMIWvR"
   },
   "outputs": [],
   "source": [
    "#function for plotting categories based on defaulters and non-defaulters\n",
    "def biplot(data, var,label_rotation):\n",
    "    fig, (ax1, ax2) = plt.subplots(ncols=2, figsize=(18,10))\n",
    "    s1=sns.barplot(ax=ax1,x=defaulters[var].value_counts().index, data=defaulters, y= 100.* defaulters[var].value_counts(normalize=True))\n",
    "    if(label_rotation):\n",
    "        s1.set_xticklabels(s1.get_xticklabels(),rotation=90,fontsize=12)\n",
    "    ax1.set_title('Distribution of '+ '%s' %var +' - Defaulters', fontsize=15)\n",
    "    ax1.set_xlabel('%s' %var,fontsize=15)\n",
    "    ax1.set_ylabel(\"% of Loans\",fontsize=15)\n",
    "   \n",
    "    s2=sns.barplot(ax=ax2,x=nondefaulters[var].value_counts().index, data=nondefaulters, y= 100.* nondefaulters[var].value_counts(normalize=True))\n",
    "    if(label_rotation):\n",
    "        s2.set_xticklabels(s2.get_xticklabels(),rotation=90,fontsize=12)\n",
    "    ax2.set_xlabel('%s' %var, fontsize=15)\n",
    "    ax2.set_ylabel(\"% of Loans\", fontsize=15)\n",
    "    ax2.set_title('Distribution of '+ '%s' %var +' - Non-Defaulters', fontsize=15)\n",
    "    plt.show()"
   ]
  },
  {
   "cell_type": "code",
   "execution_count": 29,
   "metadata": {
    "colab": {
     "base_uri": "https://localhost:8080/",
     "height": 630
    },
    "id": "IaJXnghOIZC-",
    "outputId": "ee0128d6-6fc6-451d-8f64-aac8c8d8968f",
    "scrolled": true
   },
   "outputs": [
    {
     "data": {
      "image/png": "[encoded data removed]",
      "text/plain": [
       "<Figure size 1296x720 with 2 Axes>"
      ]
     },
     "metadata": {
      "needs_background": "light"
     },
     "output_type": "display_data"
    }
   ],
   "source": [
    "biplot(data, 'NAME_CONTRACT_TYPE', False)"
   ]
  },
  {
   "cell_type": "markdown",
   "metadata": {},
   "source": [
    "For both Target = 0 and Target = 1, the percentage of Cash loans is significantly larger than the quantity of Revolving loans."
   ]
  },
  {
   "cell_type": "code",
   "execution_count": 30,
   "metadata": {
    "colab": {
     "base_uri": "https://localhost:8080/",
     "height": 630
    },
    "id": "ixBoUhVLIb4m",
    "outputId": "7c6380c8-d37a-45a8-8ba8-f4c6833416e1"
   },
   "outputs": [
    {
     "data": {
      "image/png": "[encoded data removed]",
      "text/plain": [
       "<Figure size 1296x720 with 2 Axes>"
      ]
     },
     "metadata": {
      "needs_background": "light"
     },
     "output_type": "display_data"
    }
   ],
   "source": [
    "biplot(data, 'CODE_GENDER',False)"
   ]
  },
  {
   "cell_type": "markdown",
   "metadata": {},
   "source": [
    "For both Target = 0 and Target = 1, more women than men take out loans as a proportion."
   ]
  },
  {
   "cell_type": "code",
   "execution_count": 31,
   "metadata": {
    "colab": {
     "base_uri": "https://localhost:8080/",
     "height": 745
    },
    "id": "3-wdKKSKIkVR",
    "outputId": "52475349-08e2-414a-e3d3-636525f6050a"
   },
   "outputs": [
    {
     "data": {
      "image/png": "[encoded data removed]",
      "text/plain": [
       "<Figure size 1296x720 with 2 Axes>"
      ]
     },
     "metadata": {
      "needs_background": "light"
     },
     "output_type": "display_data"
    }
   ],
   "source": [
    "biplot(data, 'NAME_HOUSING_TYPE', True)"
   ]
  },
  {
   "cell_type": "markdown",
   "metadata": {},
   "source": [
    "Almost everyone resides in a home or apartment. People who live with their parents are more likely to experience financial troubles."
   ]
  },
  {
   "cell_type": "code",
   "execution_count": 32,
   "metadata": {
    "colab": {
     "base_uri": "https://localhost:8080/",
     "height": 630
    },
    "id": "oVzVISFlIr02",
    "outputId": "4d15577d-4a68-4b00-f2f2-eb0140e2bfe4"
   },
   "outputs": [
    {
     "data": {
      "image/png": "[encoded data removed]",
      "text/plain": [
       "<Figure size 1296x720 with 2 Axes>"
      ]
     },
     "metadata": {
      "needs_background": "light"
     },
     "output_type": "display_data"
    }
   ],
   "source": [
    "biplot(data, 'FLAG_OWN_CAR', False)"
   ]
  },
  {
   "cell_type": "markdown",
   "metadata": {},
   "source": [
    "Most loan applicants don't have cars of their own. More people with cars are non-defaulters."
   ]
  },
  {
   "cell_type": "code",
   "execution_count": 33,
   "metadata": {
    "colab": {
     "base_uri": "https://localhost:8080/",
     "height": 739
    },
    "id": "C3h866emIyMc",
    "outputId": "d4b44669-3918-4dcb-dac2-a764810784ec"
   },
   "outputs": [
    {
     "data": {
      "image/png": "[encoded data removed]",
      "text/plain": [
       "<Figure size 1296x720 with 2 Axes>"
      ]
     },
     "metadata": {
      "needs_background": "light"
     },
     "output_type": "display_data"
    }
   ],
   "source": [
    "biplot(data, 'NAME_FAMILY_STATUS', True)"
   ]
  },
  {
   "cell_type": "markdown",
   "metadata": {},
   "source": [
    "There are more single and divorced people among defaulters. People who are single or unmarried are more likely to have defaulted."
   ]
  },
  {
   "cell_type": "code",
   "execution_count": 34,
   "metadata": {
    "colab": {
     "base_uri": "https://localhost:8080/",
     "height": 753
    },
    "id": "go33MMVtI3WA",
    "outputId": "5ae2a87d-1966-4a18-e870-caaf69e4e3b6"
   },
   "outputs": [
    {
     "data": {
      "image/png": "[encoded data removed]",
      "text/plain": [
       "<Figure size 1296x720 with 2 Axes>"
      ]
     },
     "metadata": {
      "needs_background": "light"
     },
     "output_type": "display_data"
    }
   ],
   "source": [
    "biplot(data, 'NAME_INCOME_TYPE', True)"
   ]
  },
  {
   "cell_type": "markdown",
   "metadata": {},
   "source": [
    "Commercial associates, pensioners, and state employees have a larger fraction of non-defaulters to the entire population."
   ]
  },
  {
   "cell_type": "code",
   "execution_count": 35,
   "metadata": {
    "id": "4jnBxCSXI7Ee"
   },
   "outputs": [],
   "source": [
    "#function for plotting categories based on defaulters and non-defaulters for organization type\n",
    "def biplot_orgtype(data, var,label_rotation):\n",
    "    fig, (ax1, ax2) = plt.subplots(ncols=2, figsize=(40,15))\n",
    "    s1=sns.countplot(ax=ax1,x=defaulters[var], data=defaulters, order= defaulters[var].value_counts().index)\n",
    "    if(label_rotation):\n",
    "        s1.set_xticklabels(s1.get_xticklabels(),rotation=90,fontsize=18)\n",
    "    ax1.set_title('Distribution of '+ '%s' %var +' - Defaulters', fontsize=15)\n",
    "    ax1.set_xlabel('%s' %var,fontsize=15)\n",
    "    ax1.set_ylabel(\"Count of Loans\",fontsize=15)\n",
    "   \n",
    "    s2=sns.countplot(ax=ax2,x=nondefaulters[var], data=nondefaulters, order= nondefaulters[var].value_counts().index)\n",
    "    if(label_rotation):\n",
    "        s2.set_xticklabels(s2.get_xticklabels(),rotation=90,fontsize=18)\n",
    "    ax2.set_xlabel('%s' %var, fontsize=15)\n",
    "    ax2.set_ylabel(\"Count of Loans\", fontsize=15)\n",
    "    ax2.set_title('Distribution of '+ '%s' %var +' - Non-Defaulters', fontsize=15)\n",
    "    plt.show()"
   ]
  },
  {
   "cell_type": "code",
   "execution_count": 36,
   "metadata": {
    "colab": {
     "base_uri": "https://localhost:8080/",
     "height": 747
    },
    "id": "r8opSmy8JCFQ",
    "outputId": "1da35c7b-16a0-4f09-ffa0-6324d69046da"
   },
   "outputs": [
    {
     "data": {
      "image/png": "[encoded data removed]",
      "text/plain": [
       "<Figure size 1296x720 with 2 Axes>"
      ]
     },
     "metadata": {
      "needs_background": "light"
     },
     "output_type": "display_data"
    }
   ],
   "source": [
    " biplot(data, 'OCCUPATION_TYPE', True)"
   ]
  },
  {
   "cell_type": "markdown",
   "metadata": {
    "id": "-zvkoyq9JH0h"
   },
   "source": [
    "Laborers and sales staff applicants appear to be the most prevalent in both the defaulter and non-defaulter categories."
   ]
  },
  {
   "cell_type": "code",
   "execution_count": 37,
   "metadata": {
    "id": "35wiLeuOJEqq"
   },
   "outputs": [],
   "source": [
    "#function for histogram\n",
    "def plothist(var):\n",
    "    plt.figure(figsize=(15,5))\n",
    "    s=plt.hist(x=defaulters[var]);\n",
    "    plt.xlabel('%s' %var)\n",
    "    plt.ylabel(\"Count of Loans\")\n",
    "    plt.title('Histogram of '+ '%s' %var +' for Defaulters', fontsize=10)\n",
    "plt.show()"
   ]
  },
  {
   "cell_type": "code",
   "execution_count": 38,
   "metadata": {
    "id": "4q3nnnVbJa-K"
   },
   "outputs": [],
   "source": [
    "# converting the days of birth to age\n",
    "data['AGE'] = data['DAYS_BIRTH'] / 365"
   ]
  },
  {
   "cell_type": "code",
   "execution_count": 39,
   "metadata": {
    "colab": {
     "base_uri": "https://localhost:8080/",
     "height": 281
    },
    "id": "gHNF7z2bJc47",
    "outputId": "f6d105ff-e2af-4722-ed1d-cd7d0077156f"
   },
   "outputs": [
    {
     "data": {
      "image/png": "[encoded data removed]",
      "text/plain": [
       "<Figure size 432x288 with 1 Axes>"
      ]
     },
     "metadata": {
      "needs_background": "light"
     },
     "output_type": "display_data"
    }
   ],
   "source": [
    "plt.hist(data['AGE']);\n",
    "\n",
    "plt.title('Age in years.');"
   ]
  },
  {
   "cell_type": "markdown",
   "metadata": {
    "id": "YuZ6iz_6JmHx"
   },
   "source": [
    "Age is Evenly distributed "
   ]
  },
  {
   "cell_type": "code",
   "execution_count": 40,
   "metadata": {
    "id": "pwgXlFPXJh2C"
   },
   "outputs": [],
   "source": [
    "#Columns for Correlation_Maps\n",
    "cols=['EXT_SOURCE_1',\n",
    "      'CNT_CHILDREN',\n",
    "      'AMT_INCOME_TOTAL',\n",
    "      'AMT_CREDIT',\n",
    "      'AMT_ANNUITY',\n",
    "      'AMT_GOODS_PRICE',\n",
    "      'HOUR_APPR_PROCESS_START',\n",
    "      'DAYS_BIRTH',\n",
    "      'DAYS_EMPLOYED',\n",
    "      'CNT_FAM_MEMBERS',\n",
    "      'AMT_REQ_CREDIT_BUREAU_QRT',\n",
    "      'REGION_RATING_CLIENT_W_CITY', \n",
    "      'REGION_RATING_CLIENT',\n",
    "       'DAYS_ID_PUBLISH',]"
   ]
  },
  {
   "cell_type": "code",
   "execution_count": 41,
   "metadata": {
    "colab": {
     "base_uri": "https://localhost:8080/",
     "height": 547
    },
    "id": "PjCpCt07KKiZ",
    "outputId": "b1a43b92-b9af-4b11-877f-4f8b6552faf9"
   },
   "outputs": [
    {
     "data": {
      "text/html": [
       "<div>\n",
       "<style scoped>\n",
       "    .dataframe tbody tr th:only-of-type {\n",
       "        vertical-align: middle;\n",
       "    }\n",
       "\n",
       "    .dataframe tbody tr th {\n",
       "        vertical-align: top;\n",
       "    }\n",
       "\n",
       "    .dataframe thead th {\n",
       "        text-align: right;\n",
       "    }\n",
       "</style>\n",
       "<table border=\"1\" class=\"dataframe\">\n",
       "  <thead>\n",
       "    <tr style=\"text-align: right;\">\n",
       "      <th></th>\n",
       "      <th>EXT_SOURCE_1</th>\n",
       "      <th>CNT_CHILDREN</th>\n",
       "      <th>AMT_INCOME_TOTAL</th>\n",
       "      <th>AMT_CREDIT</th>\n",
       "      <th>AMT_ANNUITY</th>\n",
       "      <th>AMT_GOODS_PRICE</th>\n",
       "      <th>HOUR_APPR_PROCESS_START</th>\n",
       "      <th>DAYS_BIRTH</th>\n",
       "      <th>DAYS_EMPLOYED</th>\n",
       "      <th>CNT_FAM_MEMBERS</th>\n",
       "      <th>AMT_REQ_CREDIT_BUREAU_QRT</th>\n",
       "      <th>REGION_RATING_CLIENT_W_CITY</th>\n",
       "      <th>REGION_RATING_CLIENT</th>\n",
       "      <th>DAYS_ID_PUBLISH</th>\n",
       "    </tr>\n",
       "  </thead>\n",
       "  <tbody>\n",
       "    <tr>\n",
       "      <th>EXT_SOURCE_1</th>\n",
       "      <td>1.000</td>\n",
       "      <td>-0.091</td>\n",
       "      <td>0.010</td>\n",
       "      <td>0.181</td>\n",
       "      <td>0.108</td>\n",
       "      <td>0.189</td>\n",
       "      <td>0.018</td>\n",
       "      <td>0.570</td>\n",
       "      <td>0.284</td>\n",
       "      <td>-0.051</td>\n",
       "      <td>-0.023</td>\n",
       "      <td>-0.068</td>\n",
       "      <td>-0.070</td>\n",
       "      <td>0.117</td>\n",
       "    </tr>\n",
       "    <tr>\n",
       "      <th>CNT_CHILDREN</th>\n",
       "      <td>-0.091</td>\n",
       "      <td>1.000</td>\n",
       "      <td>0.005</td>\n",
       "      <td>-0.002</td>\n",
       "      <td>0.031</td>\n",
       "      <td>-0.008</td>\n",
       "      <td>-0.024</td>\n",
       "      <td>-0.259</td>\n",
       "      <td>-0.193</td>\n",
       "      <td>0.885</td>\n",
       "      <td>-0.018</td>\n",
       "      <td>0.043</td>\n",
       "      <td>0.041</td>\n",
       "      <td>0.032</td>\n",
       "    </tr>\n",
       "    <tr>\n",
       "      <th>AMT_INCOME_TOTAL</th>\n",
       "      <td>0.010</td>\n",
       "      <td>0.005</td>\n",
       "      <td>1.000</td>\n",
       "      <td>0.038</td>\n",
       "      <td>0.046</td>\n",
       "      <td>0.038</td>\n",
       "      <td>0.014</td>\n",
       "      <td>-0.003</td>\n",
       "      <td>-0.015</td>\n",
       "      <td>0.007</td>\n",
       "      <td>-0.001</td>\n",
       "      <td>-0.023</td>\n",
       "      <td>-0.021</td>\n",
       "      <td>0.004</td>\n",
       "    </tr>\n",
       "    <tr>\n",
       "      <th>AMT_CREDIT</th>\n",
       "      <td>0.181</td>\n",
       "      <td>-0.002</td>\n",
       "      <td>0.038</td>\n",
       "      <td>1.000</td>\n",
       "      <td>0.752</td>\n",
       "      <td>0.983</td>\n",
       "      <td>0.032</td>\n",
       "      <td>0.135</td>\n",
       "      <td>0.002</td>\n",
       "      <td>0.051</td>\n",
       "      <td>-0.017</td>\n",
       "      <td>-0.071</td>\n",
       "      <td>-0.059</td>\n",
       "      <td>0.052</td>\n",
       "    </tr>\n",
       "    <tr>\n",
       "      <th>AMT_ANNUITY</th>\n",
       "      <td>0.108</td>\n",
       "      <td>0.031</td>\n",
       "      <td>0.046</td>\n",
       "      <td>0.752</td>\n",
       "      <td>1.000</td>\n",
       "      <td>0.753</td>\n",
       "      <td>0.031</td>\n",
       "      <td>0.014</td>\n",
       "      <td>-0.081</td>\n",
       "      <td>0.076</td>\n",
       "      <td>-0.010</td>\n",
       "      <td>-0.089</td>\n",
       "      <td>-0.074</td>\n",
       "      <td>0.017</td>\n",
       "    </tr>\n",
       "    <tr>\n",
       "      <th>AMT_GOODS_PRICE</th>\n",
       "      <td>0.189</td>\n",
       "      <td>-0.008</td>\n",
       "      <td>0.038</td>\n",
       "      <td>0.983</td>\n",
       "      <td>0.753</td>\n",
       "      <td>1.000</td>\n",
       "      <td>0.044</td>\n",
       "      <td>0.136</td>\n",
       "      <td>0.007</td>\n",
       "      <td>0.047</td>\n",
       "      <td>-0.016</td>\n",
       "      <td>-0.077</td>\n",
       "      <td>-0.066</td>\n",
       "      <td>0.056</td>\n",
       "    </tr>\n",
       "    <tr>\n",
       "      <th>HOUR_APPR_PROCESS_START</th>\n",
       "      <td>0.018</td>\n",
       "      <td>-0.024</td>\n",
       "      <td>0.014</td>\n",
       "      <td>0.032</td>\n",
       "      <td>0.031</td>\n",
       "      <td>0.044</td>\n",
       "      <td>1.000</td>\n",
       "      <td>-0.062</td>\n",
       "      <td>-0.060</td>\n",
       "      <td>-0.028</td>\n",
       "      <td>-0.002</td>\n",
       "      <td>-0.276</td>\n",
       "      <td>-0.294</td>\n",
       "      <td>-0.022</td>\n",
       "    </tr>\n",
       "    <tr>\n",
       "      <th>DAYS_BIRTH</th>\n",
       "      <td>0.570</td>\n",
       "      <td>-0.259</td>\n",
       "      <td>-0.003</td>\n",
       "      <td>0.135</td>\n",
       "      <td>0.014</td>\n",
       "      <td>0.136</td>\n",
       "      <td>-0.062</td>\n",
       "      <td>1.000</td>\n",
       "      <td>0.582</td>\n",
       "      <td>-0.203</td>\n",
       "      <td>0.017</td>\n",
       "      <td>-0.034</td>\n",
       "      <td>-0.034</td>\n",
       "      <td>0.253</td>\n",
       "    </tr>\n",
       "    <tr>\n",
       "      <th>DAYS_EMPLOYED</th>\n",
       "      <td>0.284</td>\n",
       "      <td>-0.193</td>\n",
       "      <td>-0.015</td>\n",
       "      <td>0.002</td>\n",
       "      <td>-0.081</td>\n",
       "      <td>0.007</td>\n",
       "      <td>-0.060</td>\n",
       "      <td>0.582</td>\n",
       "      <td>1.000</td>\n",
       "      <td>-0.187</td>\n",
       "      <td>0.014</td>\n",
       "      <td>0.003</td>\n",
       "      <td>0.003</td>\n",
       "      <td>0.229</td>\n",
       "    </tr>\n",
       "    <tr>\n",
       "      <th>CNT_FAM_MEMBERS</th>\n",
       "      <td>-0.051</td>\n",
       "      <td>0.885</td>\n",
       "      <td>0.007</td>\n",
       "      <td>0.051</td>\n",
       "      <td>0.076</td>\n",
       "      <td>0.047</td>\n",
       "      <td>-0.028</td>\n",
       "      <td>-0.203</td>\n",
       "      <td>-0.187</td>\n",
       "      <td>1.000</td>\n",
       "      <td>-0.013</td>\n",
       "      <td>0.048</td>\n",
       "      <td>0.044</td>\n",
       "      <td>0.032</td>\n",
       "    </tr>\n",
       "    <tr>\n",
       "      <th>AMT_REQ_CREDIT_BUREAU_QRT</th>\n",
       "      <td>-0.023</td>\n",
       "      <td>-0.018</td>\n",
       "      <td>-0.001</td>\n",
       "      <td>-0.017</td>\n",
       "      <td>-0.010</td>\n",
       "      <td>-0.016</td>\n",
       "      <td>-0.002</td>\n",
       "      <td>0.017</td>\n",
       "      <td>0.014</td>\n",
       "      <td>-0.013</td>\n",
       "      <td>1.000</td>\n",
       "      <td>0.008</td>\n",
       "      <td>0.011</td>\n",
       "      <td>-0.008</td>\n",
       "    </tr>\n",
       "    <tr>\n",
       "      <th>REGION_RATING_CLIENT_W_CITY</th>\n",
       "      <td>-0.068</td>\n",
       "      <td>0.043</td>\n",
       "      <td>-0.023</td>\n",
       "      <td>-0.071</td>\n",
       "      <td>-0.089</td>\n",
       "      <td>-0.077</td>\n",
       "      <td>-0.276</td>\n",
       "      <td>-0.034</td>\n",
       "      <td>0.003</td>\n",
       "      <td>0.048</td>\n",
       "      <td>0.008</td>\n",
       "      <td>1.000</td>\n",
       "      <td>0.957</td>\n",
       "      <td>0.001</td>\n",
       "    </tr>\n",
       "    <tr>\n",
       "      <th>REGION_RATING_CLIENT</th>\n",
       "      <td>-0.070</td>\n",
       "      <td>0.041</td>\n",
       "      <td>-0.021</td>\n",
       "      <td>-0.059</td>\n",
       "      <td>-0.074</td>\n",
       "      <td>-0.066</td>\n",
       "      <td>-0.294</td>\n",
       "      <td>-0.034</td>\n",
       "      <td>0.003</td>\n",
       "      <td>0.044</td>\n",
       "      <td>0.011</td>\n",
       "      <td>0.957</td>\n",
       "      <td>1.000</td>\n",
       "      <td>-0.001</td>\n",
       "    </tr>\n",
       "    <tr>\n",
       "      <th>DAYS_ID_PUBLISH</th>\n",
       "      <td>0.117</td>\n",
       "      <td>0.032</td>\n",
       "      <td>0.004</td>\n",
       "      <td>0.052</td>\n",
       "      <td>0.017</td>\n",
       "      <td>0.056</td>\n",
       "      <td>-0.022</td>\n",
       "      <td>0.253</td>\n",
       "      <td>0.229</td>\n",
       "      <td>0.032</td>\n",
       "      <td>-0.008</td>\n",
       "      <td>0.001</td>\n",
       "      <td>-0.001</td>\n",
       "      <td>1.000</td>\n",
       "    </tr>\n",
       "  </tbody>\n",
       "</table>\n",
       "</div>"
      ],
      "text/plain": [
       "                             EXT_SOURCE_1  CNT_CHILDREN  AMT_INCOME_TOTAL  \\\n",
       "EXT_SOURCE_1                        1.000        -0.091             0.010   \n",
       "CNT_CHILDREN                       -0.091         1.000             0.005   \n",
       "AMT_INCOME_TOTAL                    0.010         0.005             1.000   \n",
       "AMT_CREDIT                          0.181        -0.002             0.038   \n",
       "AMT_ANNUITY                         0.108         0.031             0.046   \n",
       "AMT_GOODS_PRICE                     0.189        -0.008             0.038   \n",
       "HOUR_APPR_PROCESS_START             0.018        -0.024             0.014   \n",
       "DAYS_BIRTH                          0.570        -0.259            -0.003   \n",
       "DAYS_EMPLOYED                       0.284        -0.193            -0.015   \n",
       "CNT_FAM_MEMBERS                    -0.051         0.885             0.007   \n",
       "AMT_REQ_CREDIT_BUREAU_QRT          -0.023        -0.018            -0.001   \n",
       "REGION_RATING_CLIENT_W_CITY        -0.068         0.043            -0.023   \n",
       "REGION_RATING_CLIENT               -0.070         0.041            -0.021   \n",
       "DAYS_ID_PUBLISH                     0.117         0.032             0.004   \n",
       "\n",
       "                             AMT_CREDIT  AMT_ANNUITY  AMT_GOODS_PRICE  \\\n",
       "EXT_SOURCE_1                      0.181        0.108            0.189   \n",
       "CNT_CHILDREN                     -0.002        0.031           -0.008   \n",
       "AMT_INCOME_TOTAL                  0.038        0.046            0.038   \n",
       "AMT_CREDIT                        1.000        0.752            0.983   \n",
       "AMT_ANNUITY                       0.752        1.000            0.753   \n",
       "AMT_GOODS_PRICE                   0.983        0.753            1.000   \n",
       "HOUR_APPR_PROCESS_START           0.032        0.031            0.044   \n",
       "DAYS_BIRTH                        0.135        0.014            0.136   \n",
       "DAYS_EMPLOYED                     0.002       -0.081            0.007   \n",
       "CNT_FAM_MEMBERS                   0.051        0.076            0.047   \n",
       "AMT_REQ_CREDIT_BUREAU_QRT        -0.017       -0.010           -0.016   \n",
       "REGION_RATING_CLIENT_W_CITY      -0.071       -0.089           -0.077   \n",
       "REGION_RATING_CLIENT             -0.059       -0.074           -0.066   \n",
       "DAYS_ID_PUBLISH                   0.052        0.017            0.056   \n",
       "\n",
       "                             HOUR_APPR_PROCESS_START  DAYS_BIRTH  \\\n",
       "EXT_SOURCE_1                                   0.018       0.570   \n",
       "CNT_CHILDREN                                  -0.024      -0.259   \n",
       "AMT_INCOME_TOTAL                               0.014      -0.003   \n",
       "AMT_CREDIT                                     0.032       0.135   \n",
       "AMT_ANNUITY                                    0.031       0.014   \n",
       "AMT_GOODS_PRICE                                0.044       0.136   \n",
       "HOUR_APPR_PROCESS_START                        1.000      -0.062   \n",
       "DAYS_BIRTH                                    -0.062       1.000   \n",
       "DAYS_EMPLOYED                                 -0.060       0.582   \n",
       "CNT_FAM_MEMBERS                               -0.028      -0.203   \n",
       "AMT_REQ_CREDIT_BUREAU_QRT                     -0.002       0.017   \n",
       "REGION_RATING_CLIENT_W_CITY                   -0.276      -0.034   \n",
       "REGION_RATING_CLIENT                          -0.294      -0.034   \n",
       "DAYS_ID_PUBLISH                               -0.022       0.253   \n",
       "\n",
       "                             DAYS_EMPLOYED  CNT_FAM_MEMBERS  \\\n",
       "EXT_SOURCE_1                         0.284           -0.051   \n",
       "CNT_CHILDREN                        -0.193            0.885   \n",
       "AMT_INCOME_TOTAL                    -0.015            0.007   \n",
       "AMT_CREDIT                           0.002            0.051   \n",
       "AMT_ANNUITY                         -0.081            0.076   \n",
       "AMT_GOODS_PRICE                      0.007            0.047   \n",
       "HOUR_APPR_PROCESS_START             -0.060           -0.028   \n",
       "DAYS_BIRTH                           0.582           -0.203   \n",
       "DAYS_EMPLOYED                        1.000           -0.187   \n",
       "CNT_FAM_MEMBERS                     -0.187            1.000   \n",
       "AMT_REQ_CREDIT_BUREAU_QRT            0.014           -0.013   \n",
       "REGION_RATING_CLIENT_W_CITY          0.003            0.048   \n",
       "REGION_RATING_CLIENT                 0.003            0.044   \n",
       "DAYS_ID_PUBLISH                      0.229            0.032   \n",
       "\n",
       "                             AMT_REQ_CREDIT_BUREAU_QRT  \\\n",
       "EXT_SOURCE_1                                    -0.023   \n",
       "CNT_CHILDREN                                    -0.018   \n",
       "AMT_INCOME_TOTAL                                -0.001   \n",
       "AMT_CREDIT                                      -0.017   \n",
       "AMT_ANNUITY                                     -0.010   \n",
       "AMT_GOODS_PRICE                                 -0.016   \n",
       "HOUR_APPR_PROCESS_START                         -0.002   \n",
       "DAYS_BIRTH                                       0.017   \n",
       "DAYS_EMPLOYED                                    0.014   \n",
       "CNT_FAM_MEMBERS                                 -0.013   \n",
       "AMT_REQ_CREDIT_BUREAU_QRT                        1.000   \n",
       "REGION_RATING_CLIENT_W_CITY                      0.008   \n",
       "REGION_RATING_CLIENT                             0.011   \n",
       "DAYS_ID_PUBLISH                                 -0.008   \n",
       "\n",
       "                             REGION_RATING_CLIENT_W_CITY  \\\n",
       "EXT_SOURCE_1                                      -0.068   \n",
       "CNT_CHILDREN                                       0.043   \n",
       "AMT_INCOME_TOTAL                                  -0.023   \n",
       "AMT_CREDIT                                        -0.071   \n",
       "AMT_ANNUITY                                       -0.089   \n",
       "AMT_GOODS_PRICE                                   -0.077   \n",
       "HOUR_APPR_PROCESS_START                           -0.276   \n",
       "DAYS_BIRTH                                        -0.034   \n",
       "DAYS_EMPLOYED                                      0.003   \n",
       "CNT_FAM_MEMBERS                                    0.048   \n",
       "AMT_REQ_CREDIT_BUREAU_QRT                          0.008   \n",
       "REGION_RATING_CLIENT_W_CITY                        1.000   \n",
       "REGION_RATING_CLIENT                               0.957   \n",
       "DAYS_ID_PUBLISH                                    0.001   \n",
       "\n",
       "                             REGION_RATING_CLIENT  DAYS_ID_PUBLISH  \n",
       "EXT_SOURCE_1                               -0.070            0.117  \n",
       "CNT_CHILDREN                                0.041            0.032  \n",
       "AMT_INCOME_TOTAL                           -0.021            0.004  \n",
       "AMT_CREDIT                                 -0.059            0.052  \n",
       "AMT_ANNUITY                                -0.074            0.017  \n",
       "AMT_GOODS_PRICE                            -0.066            0.056  \n",
       "HOUR_APPR_PROCESS_START                    -0.294           -0.022  \n",
       "DAYS_BIRTH                                 -0.034            0.253  \n",
       "DAYS_EMPLOYED                               0.003            0.229  \n",
       "CNT_FAM_MEMBERS                             0.044            0.032  \n",
       "AMT_REQ_CREDIT_BUREAU_QRT                   0.011           -0.008  \n",
       "REGION_RATING_CLIENT_W_CITY                 0.957            0.001  \n",
       "REGION_RATING_CLIENT                        1.000           -0.001  \n",
       "DAYS_ID_PUBLISH                            -0.001            1.000  "
      ]
     },
     "execution_count": 41,
     "metadata": {},
     "output_type": "execute_result"
    }
   ],
   "source": [
    "defaulters_1=defaulters[cols]\n",
    "defaulters_correlation = defaulters_1.corr()\n",
    "round(defaulters_correlation, 3)"
   ]
  },
  {
   "cell_type": "code",
   "execution_count": 42,
   "metadata": {
    "colab": {
     "base_uri": "https://localhost:8080/",
     "height": 1000
    },
    "id": "mMFplkdUKNMk",
    "outputId": "ea9e2ec1-00b1-4fbb-857a-9d016ccca313"
   },
   "outputs": [
    {
     "data": {
      "image/png": "[encoded data removed]",
      "text/plain": [
       "<Figure size 1440x1080 with 2 Axes>"
      ]
     },
     "metadata": {
      "needs_background": "light"
     },
     "output_type": "display_data"
    }
   ],
   "source": [
    "# figure size\n",
    "plt.figure(figsize=(20,15))\n",
    "\n",
    "# heatmap\n",
    "sns.heatmap(defaulters_correlation, cmap=\"coolwarm\", annot=True)\n",
    "plt.show()"
   ]
  },
  {
   "cell_type": "markdown",
   "metadata": {
    "id": "fO2x0ESwKYYg"
   },
   "source": [
    "Most positive correlations are-\n",
    "\n",
    "AMT_CREDIT - AMT_GOODS_PRICE\n",
    "REGION_RATING_CLIENT_W_CITY - REGION_RATING_CLIENT\n",
    "CNT_CHILDREN - CNT_FAM_MEMBERS\n",
    "AMT_CREDIT - AMT_ANNUITY\n",
    "AMT_GOODS_PRICE - AMT_ANNUITY\n",
    "\n",
    "\n",
    "Most negative correlations are-\n",
    "\n",
    "HOUR_APPR_PROCESS_START - REGION_RATING_CLIENT_W_CITY\n",
    "REGION_RATING_CLIENT - HOUR_APPR_PROCESS_START\n",
    "EXT_SOURCE_1 - DAYS_BIRTH\n",
    "DAYS_BIRTH - EXT_SOURCE_1\n",
    "DAYS_BIRTH - DAYS_EMPLOYED"
   ]
  },
  {
   "cell_type": "code",
   "execution_count": 43,
   "metadata": {
    "colab": {
     "base_uri": "https://localhost:8080/",
     "height": 547
    },
    "id": "q-CBmqeOKPvE",
    "outputId": "a72f19ff-b403-4872-993e-34e09cf0d083"
   },
   "outputs": [
    {
     "data": {
      "text/html": [
       "<div>\n",
       "<style scoped>\n",
       "    .dataframe tbody tr th:only-of-type {\n",
       "        vertical-align: middle;\n",
       "    }\n",
       "\n",
       "    .dataframe tbody tr th {\n",
       "        vertical-align: top;\n",
       "    }\n",
       "\n",
       "    .dataframe thead th {\n",
       "        text-align: right;\n",
       "    }\n",
       "</style>\n",
       "<table border=\"1\" class=\"dataframe\">\n",
       "  <thead>\n",
       "    <tr style=\"text-align: right;\">\n",
       "      <th></th>\n",
       "      <th>EXT_SOURCE_1</th>\n",
       "      <th>CNT_CHILDREN</th>\n",
       "      <th>AMT_INCOME_TOTAL</th>\n",
       "      <th>AMT_CREDIT</th>\n",
       "      <th>AMT_ANNUITY</th>\n",
       "      <th>AMT_GOODS_PRICE</th>\n",
       "      <th>HOUR_APPR_PROCESS_START</th>\n",
       "      <th>DAYS_BIRTH</th>\n",
       "      <th>DAYS_EMPLOYED</th>\n",
       "      <th>CNT_FAM_MEMBERS</th>\n",
       "      <th>AMT_REQ_CREDIT_BUREAU_QRT</th>\n",
       "      <th>REGION_RATING_CLIENT_W_CITY</th>\n",
       "      <th>REGION_RATING_CLIENT</th>\n",
       "      <th>DAYS_ID_PUBLISH</th>\n",
       "    </tr>\n",
       "  </thead>\n",
       "  <tbody>\n",
       "    <tr>\n",
       "      <th>EXT_SOURCE_1</th>\n",
       "      <td>1.000</td>\n",
       "      <td>-0.143</td>\n",
       "      <td>0.075</td>\n",
       "      <td>0.165</td>\n",
       "      <td>0.120</td>\n",
       "      <td>0.171</td>\n",
       "      <td>0.029</td>\n",
       "      <td>0.601</td>\n",
       "      <td>0.299</td>\n",
       "      <td>-0.101</td>\n",
       "      <td>-0.003</td>\n",
       "      <td>-0.110</td>\n",
       "      <td>-0.111</td>\n",
       "      <td>0.128</td>\n",
       "    </tr>\n",
       "    <tr>\n",
       "      <th>CNT_CHILDREN</th>\n",
       "      <td>-0.143</td>\n",
       "      <td>1.000</td>\n",
       "      <td>0.027</td>\n",
       "      <td>0.003</td>\n",
       "      <td>0.021</td>\n",
       "      <td>-0.001</td>\n",
       "      <td>-0.005</td>\n",
       "      <td>-0.337</td>\n",
       "      <td>-0.245</td>\n",
       "      <td>0.879</td>\n",
       "      <td>-0.007</td>\n",
       "      <td>0.022</td>\n",
       "      <td>0.023</td>\n",
       "      <td>0.029</td>\n",
       "    </tr>\n",
       "    <tr>\n",
       "      <th>AMT_INCOME_TOTAL</th>\n",
       "      <td>0.075</td>\n",
       "      <td>0.027</td>\n",
       "      <td>1.000</td>\n",
       "      <td>0.343</td>\n",
       "      <td>0.419</td>\n",
       "      <td>0.349</td>\n",
       "      <td>0.077</td>\n",
       "      <td>-0.063</td>\n",
       "      <td>-0.140</td>\n",
       "      <td>0.034</td>\n",
       "      <td>0.013</td>\n",
       "      <td>-0.200</td>\n",
       "      <td>-0.187</td>\n",
       "      <td>-0.023</td>\n",
       "    </tr>\n",
       "    <tr>\n",
       "      <th>AMT_CREDIT</th>\n",
       "      <td>0.165</td>\n",
       "      <td>0.003</td>\n",
       "      <td>0.343</td>\n",
       "      <td>1.000</td>\n",
       "      <td>0.771</td>\n",
       "      <td>0.987</td>\n",
       "      <td>0.054</td>\n",
       "      <td>0.047</td>\n",
       "      <td>-0.070</td>\n",
       "      <td>0.065</td>\n",
       "      <td>0.018</td>\n",
       "      <td>-0.112</td>\n",
       "      <td>-0.103</td>\n",
       "      <td>0.001</td>\n",
       "    </tr>\n",
       "    <tr>\n",
       "      <th>AMT_ANNUITY</th>\n",
       "      <td>0.120</td>\n",
       "      <td>0.021</td>\n",
       "      <td>0.419</td>\n",
       "      <td>0.771</td>\n",
       "      <td>1.000</td>\n",
       "      <td>0.777</td>\n",
       "      <td>0.054</td>\n",
       "      <td>-0.012</td>\n",
       "      <td>-0.105</td>\n",
       "      <td>0.076</td>\n",
       "      <td>0.011</td>\n",
       "      <td>-0.145</td>\n",
       "      <td>-0.132</td>\n",
       "      <td>-0.014</td>\n",
       "    </tr>\n",
       "    <tr>\n",
       "      <th>AMT_GOODS_PRICE</th>\n",
       "      <td>0.171</td>\n",
       "      <td>-0.001</td>\n",
       "      <td>0.349</td>\n",
       "      <td>0.987</td>\n",
       "      <td>0.777</td>\n",
       "      <td>1.000</td>\n",
       "      <td>0.063</td>\n",
       "      <td>0.045</td>\n",
       "      <td>-0.069</td>\n",
       "      <td>0.063</td>\n",
       "      <td>0.018</td>\n",
       "      <td>-0.113</td>\n",
       "      <td>-0.104</td>\n",
       "      <td>0.004</td>\n",
       "    </tr>\n",
       "    <tr>\n",
       "      <th>HOUR_APPR_PROCESS_START</th>\n",
       "      <td>0.029</td>\n",
       "      <td>-0.005</td>\n",
       "      <td>0.077</td>\n",
       "      <td>0.054</td>\n",
       "      <td>0.054</td>\n",
       "      <td>0.063</td>\n",
       "      <td>1.000</td>\n",
       "      <td>-0.096</td>\n",
       "      <td>-0.095</td>\n",
       "      <td>-0.011</td>\n",
       "      <td>-0.001</td>\n",
       "      <td>-0.263</td>\n",
       "      <td>-0.284</td>\n",
       "      <td>-0.034</td>\n",
       "    </tr>\n",
       "    <tr>\n",
       "      <th>DAYS_BIRTH</th>\n",
       "      <td>0.601</td>\n",
       "      <td>-0.337</td>\n",
       "      <td>-0.063</td>\n",
       "      <td>0.047</td>\n",
       "      <td>-0.012</td>\n",
       "      <td>0.045</td>\n",
       "      <td>-0.096</td>\n",
       "      <td>1.000</td>\n",
       "      <td>0.626</td>\n",
       "      <td>-0.286</td>\n",
       "      <td>0.011</td>\n",
       "      <td>-0.001</td>\n",
       "      <td>-0.002</td>\n",
       "      <td>0.271</td>\n",
       "    </tr>\n",
       "    <tr>\n",
       "      <th>DAYS_EMPLOYED</th>\n",
       "      <td>0.299</td>\n",
       "      <td>-0.245</td>\n",
       "      <td>-0.140</td>\n",
       "      <td>-0.070</td>\n",
       "      <td>-0.105</td>\n",
       "      <td>-0.069</td>\n",
       "      <td>-0.095</td>\n",
       "      <td>0.626</td>\n",
       "      <td>1.000</td>\n",
       "      <td>-0.238</td>\n",
       "      <td>0.015</td>\n",
       "      <td>0.040</td>\n",
       "      <td>0.038</td>\n",
       "      <td>0.277</td>\n",
       "    </tr>\n",
       "    <tr>\n",
       "      <th>CNT_FAM_MEMBERS</th>\n",
       "      <td>-0.101</td>\n",
       "      <td>0.879</td>\n",
       "      <td>0.034</td>\n",
       "      <td>0.065</td>\n",
       "      <td>0.076</td>\n",
       "      <td>0.063</td>\n",
       "      <td>-0.011</td>\n",
       "      <td>-0.286</td>\n",
       "      <td>-0.238</td>\n",
       "      <td>1.000</td>\n",
       "      <td>-0.004</td>\n",
       "      <td>0.029</td>\n",
       "      <td>0.028</td>\n",
       "      <td>0.020</td>\n",
       "    </tr>\n",
       "    <tr>\n",
       "      <th>AMT_REQ_CREDIT_BUREAU_QRT</th>\n",
       "      <td>-0.003</td>\n",
       "      <td>-0.007</td>\n",
       "      <td>0.013</td>\n",
       "      <td>0.018</td>\n",
       "      <td>0.011</td>\n",
       "      <td>0.018</td>\n",
       "      <td>-0.001</td>\n",
       "      <td>0.011</td>\n",
       "      <td>0.015</td>\n",
       "      <td>-0.004</td>\n",
       "      <td>1.000</td>\n",
       "      <td>0.005</td>\n",
       "      <td>0.005</td>\n",
       "      <td>0.007</td>\n",
       "    </tr>\n",
       "    <tr>\n",
       "      <th>REGION_RATING_CLIENT_W_CITY</th>\n",
       "      <td>-0.110</td>\n",
       "      <td>0.022</td>\n",
       "      <td>-0.200</td>\n",
       "      <td>-0.112</td>\n",
       "      <td>-0.145</td>\n",
       "      <td>-0.113</td>\n",
       "      <td>-0.263</td>\n",
       "      <td>-0.001</td>\n",
       "      <td>0.040</td>\n",
       "      <td>0.029</td>\n",
       "      <td>0.005</td>\n",
       "      <td>1.000</td>\n",
       "      <td>0.950</td>\n",
       "      <td>0.012</td>\n",
       "    </tr>\n",
       "    <tr>\n",
       "      <th>REGION_RATING_CLIENT</th>\n",
       "      <td>-0.111</td>\n",
       "      <td>0.023</td>\n",
       "      <td>-0.187</td>\n",
       "      <td>-0.103</td>\n",
       "      <td>-0.132</td>\n",
       "      <td>-0.104</td>\n",
       "      <td>-0.284</td>\n",
       "      <td>-0.002</td>\n",
       "      <td>0.038</td>\n",
       "      <td>0.028</td>\n",
       "      <td>0.005</td>\n",
       "      <td>0.950</td>\n",
       "      <td>1.000</td>\n",
       "      <td>0.009</td>\n",
       "    </tr>\n",
       "    <tr>\n",
       "      <th>DAYS_ID_PUBLISH</th>\n",
       "      <td>0.128</td>\n",
       "      <td>0.029</td>\n",
       "      <td>-0.023</td>\n",
       "      <td>0.001</td>\n",
       "      <td>-0.014</td>\n",
       "      <td>0.004</td>\n",
       "      <td>-0.034</td>\n",
       "      <td>0.271</td>\n",
       "      <td>0.277</td>\n",
       "      <td>0.020</td>\n",
       "      <td>0.007</td>\n",
       "      <td>0.012</td>\n",
       "      <td>0.009</td>\n",
       "      <td>1.000</td>\n",
       "    </tr>\n",
       "  </tbody>\n",
       "</table>\n",
       "</div>"
      ],
      "text/plain": [
       "                             EXT_SOURCE_1  CNT_CHILDREN  AMT_INCOME_TOTAL  \\\n",
       "EXT_SOURCE_1                        1.000        -0.143             0.075   \n",
       "CNT_CHILDREN                       -0.143         1.000             0.027   \n",
       "AMT_INCOME_TOTAL                    0.075         0.027             1.000   \n",
       "AMT_CREDIT                          0.165         0.003             0.343   \n",
       "AMT_ANNUITY                         0.120         0.021             0.419   \n",
       "AMT_GOODS_PRICE                     0.171        -0.001             0.349   \n",
       "HOUR_APPR_PROCESS_START             0.029        -0.005             0.077   \n",
       "DAYS_BIRTH                          0.601        -0.337            -0.063   \n",
       "DAYS_EMPLOYED                       0.299        -0.245            -0.140   \n",
       "CNT_FAM_MEMBERS                    -0.101         0.879             0.034   \n",
       "AMT_REQ_CREDIT_BUREAU_QRT          -0.003        -0.007             0.013   \n",
       "REGION_RATING_CLIENT_W_CITY        -0.110         0.022            -0.200   \n",
       "REGION_RATING_CLIENT               -0.111         0.023            -0.187   \n",
       "DAYS_ID_PUBLISH                     0.128         0.029            -0.023   \n",
       "\n",
       "                             AMT_CREDIT  AMT_ANNUITY  AMT_GOODS_PRICE  \\\n",
       "EXT_SOURCE_1                      0.165        0.120            0.171   \n",
       "CNT_CHILDREN                      0.003        0.021           -0.001   \n",
       "AMT_INCOME_TOTAL                  0.343        0.419            0.349   \n",
       "AMT_CREDIT                        1.000        0.771            0.987   \n",
       "AMT_ANNUITY                       0.771        1.000            0.777   \n",
       "AMT_GOODS_PRICE                   0.987        0.777            1.000   \n",
       "HOUR_APPR_PROCESS_START           0.054        0.054            0.063   \n",
       "DAYS_BIRTH                        0.047       -0.012            0.045   \n",
       "DAYS_EMPLOYED                    -0.070       -0.105           -0.069   \n",
       "CNT_FAM_MEMBERS                   0.065        0.076            0.063   \n",
       "AMT_REQ_CREDIT_BUREAU_QRT         0.018        0.011            0.018   \n",
       "REGION_RATING_CLIENT_W_CITY      -0.112       -0.145           -0.113   \n",
       "REGION_RATING_CLIENT             -0.103       -0.132           -0.104   \n",
       "DAYS_ID_PUBLISH                   0.001       -0.014            0.004   \n",
       "\n",
       "                             HOUR_APPR_PROCESS_START  DAYS_BIRTH  \\\n",
       "EXT_SOURCE_1                                   0.029       0.601   \n",
       "CNT_CHILDREN                                  -0.005      -0.337   \n",
       "AMT_INCOME_TOTAL                               0.077      -0.063   \n",
       "AMT_CREDIT                                     0.054       0.047   \n",
       "AMT_ANNUITY                                    0.054      -0.012   \n",
       "AMT_GOODS_PRICE                                0.063       0.045   \n",
       "HOUR_APPR_PROCESS_START                        1.000      -0.096   \n",
       "DAYS_BIRTH                                    -0.096       1.000   \n",
       "DAYS_EMPLOYED                                 -0.095       0.626   \n",
       "CNT_FAM_MEMBERS                               -0.011      -0.286   \n",
       "AMT_REQ_CREDIT_BUREAU_QRT                     -0.001       0.011   \n",
       "REGION_RATING_CLIENT_W_CITY                   -0.263      -0.001   \n",
       "REGION_RATING_CLIENT                          -0.284      -0.002   \n",
       "DAYS_ID_PUBLISH                               -0.034       0.271   \n",
       "\n",
       "                             DAYS_EMPLOYED  CNT_FAM_MEMBERS  \\\n",
       "EXT_SOURCE_1                         0.299           -0.101   \n",
       "CNT_CHILDREN                        -0.245            0.879   \n",
       "AMT_INCOME_TOTAL                    -0.140            0.034   \n",
       "AMT_CREDIT                          -0.070            0.065   \n",
       "AMT_ANNUITY                         -0.105            0.076   \n",
       "AMT_GOODS_PRICE                     -0.069            0.063   \n",
       "HOUR_APPR_PROCESS_START             -0.095           -0.011   \n",
       "DAYS_BIRTH                           0.626           -0.286   \n",
       "DAYS_EMPLOYED                        1.000           -0.238   \n",
       "CNT_FAM_MEMBERS                     -0.238            1.000   \n",
       "AMT_REQ_CREDIT_BUREAU_QRT            0.015           -0.004   \n",
       "REGION_RATING_CLIENT_W_CITY          0.040            0.029   \n",
       "REGION_RATING_CLIENT                 0.038            0.028   \n",
       "DAYS_ID_PUBLISH                      0.277            0.020   \n",
       "\n",
       "                             AMT_REQ_CREDIT_BUREAU_QRT  \\\n",
       "EXT_SOURCE_1                                    -0.003   \n",
       "CNT_CHILDREN                                    -0.007   \n",
       "AMT_INCOME_TOTAL                                 0.013   \n",
       "AMT_CREDIT                                       0.018   \n",
       "AMT_ANNUITY                                      0.011   \n",
       "AMT_GOODS_PRICE                                  0.018   \n",
       "HOUR_APPR_PROCESS_START                         -0.001   \n",
       "DAYS_BIRTH                                       0.011   \n",
       "DAYS_EMPLOYED                                    0.015   \n",
       "CNT_FAM_MEMBERS                                 -0.004   \n",
       "AMT_REQ_CREDIT_BUREAU_QRT                        1.000   \n",
       "REGION_RATING_CLIENT_W_CITY                      0.005   \n",
       "REGION_RATING_CLIENT                             0.005   \n",
       "DAYS_ID_PUBLISH                                  0.007   \n",
       "\n",
       "                             REGION_RATING_CLIENT_W_CITY  \\\n",
       "EXT_SOURCE_1                                      -0.110   \n",
       "CNT_CHILDREN                                       0.022   \n",
       "AMT_INCOME_TOTAL                                  -0.200   \n",
       "AMT_CREDIT                                        -0.112   \n",
       "AMT_ANNUITY                                       -0.145   \n",
       "AMT_GOODS_PRICE                                   -0.113   \n",
       "HOUR_APPR_PROCESS_START                           -0.263   \n",
       "DAYS_BIRTH                                        -0.001   \n",
       "DAYS_EMPLOYED                                      0.040   \n",
       "CNT_FAM_MEMBERS                                    0.029   \n",
       "AMT_REQ_CREDIT_BUREAU_QRT                          0.005   \n",
       "REGION_RATING_CLIENT_W_CITY                        1.000   \n",
       "REGION_RATING_CLIENT                               0.950   \n",
       "DAYS_ID_PUBLISH                                    0.012   \n",
       "\n",
       "                             REGION_RATING_CLIENT  DAYS_ID_PUBLISH  \n",
       "EXT_SOURCE_1                               -0.111            0.128  \n",
       "CNT_CHILDREN                                0.023            0.029  \n",
       "AMT_INCOME_TOTAL                           -0.187           -0.023  \n",
       "AMT_CREDIT                                 -0.103            0.001  \n",
       "AMT_ANNUITY                                -0.132           -0.014  \n",
       "AMT_GOODS_PRICE                            -0.104            0.004  \n",
       "HOUR_APPR_PROCESS_START                    -0.284           -0.034  \n",
       "DAYS_BIRTH                                 -0.002            0.271  \n",
       "DAYS_EMPLOYED                               0.038            0.277  \n",
       "CNT_FAM_MEMBERS                             0.028            0.020  \n",
       "AMT_REQ_CREDIT_BUREAU_QRT                   0.005            0.007  \n",
       "REGION_RATING_CLIENT_W_CITY                 0.950            0.012  \n",
       "REGION_RATING_CLIENT                        1.000            0.009  \n",
       "DAYS_ID_PUBLISH                             0.009            1.000  "
      ]
     },
     "execution_count": 43,
     "metadata": {},
     "output_type": "execute_result"
    }
   ],
   "source": [
    "nondefaulters_1=nondefaulters[cols]\n",
    "nondefaulters_correlation = nondefaulters_1.corr()\n",
    "round(nondefaulters_correlation, 3)"
   ]
  },
  {
   "cell_type": "code",
   "execution_count": 44,
   "metadata": {
    "colab": {
     "base_uri": "https://localhost:8080/",
     "height": 1000
    },
    "id": "btgNcWdaKUSf",
    "outputId": "63ae28b2-ddb5-4456-8987-2b9acdedd462"
   },
   "outputs": [
    {
     "data": {
      "image/png": "[encoded data removed]",
      "text/plain": [
       "<Figure size 1440x1080 with 2 Axes>"
      ]
     },
     "metadata": {
      "needs_background": "light"
     },
     "output_type": "display_data"
    }
   ],
   "source": [
    "# figure size\n",
    "plt.figure(figsize=(20,15))\n",
    "\n",
    "# heatmap\n",
    "sns.heatmap(nondefaulters_correlation, cmap=\"coolwarm\", annot=True)\n",
    "plt.show()"
   ]
  },
  {
   "cell_type": "markdown",
   "metadata": {
    "id": "D_zG9nHfKiej"
   },
   "source": [
    "Most positive correlations are-\n",
    "\n",
    "AMT_CREDIT - AMT_GOODS_PRICE\n",
    "REGION_RATING_CLIENT_W_CITY - REGION_RATING_CLIENT\n",
    "CNT_CHILDREN - CNT_FAM_MEMBERS\n",
    "AMT_CREDIT - AMT_ANNUITY\n",
    "AMT_GOODS_PRICE - AMT_ANNUITY\n",
    "\n",
    "Most positive correlations are-\n",
    "\n",
    "HOUR_APPR_PROCESS_START - REGION_RATING_CLIENT_W_CITY\n",
    "REGION_RATING_CLIENT - HOUR_APPR_PROCESS_START\n",
    "EXT_SOURCE_1 - DAYS_BIRTH\n",
    "DAYS_BIRTH - EXT_SOURCE_1\n",
    "DAYS_BIRTH - DAYS_EMPLOYED"
   ]
  },
  {
   "cell_type": "code",
   "execution_count": 45,
   "metadata": {
    "id": "janR_G0_KeCD"
   },
   "outputs": [],
   "source": [
    "data.drop(columns=['SK_ID_CURR'] , inplace =True)"
   ]
  },
  {
   "cell_type": "code",
   "execution_count": 46,
   "metadata": {
    "id": "8lQa_aKdLq69"
   },
   "outputs": [],
   "source": [
    "# from sklearn.preprocessing import OneHotEncoder\n",
    "# enc=OneHotEncoder()\n",
    "\n",
    "# enc_data=pd.DataFrame(enc.fit_transform(data[['NAME_CONTRACT_TYPE','CODE_GENDER','FLAG_OWN_CAR','FLAG_OWN_REALTY','NAME_TYPE_SUITE','NAME_INCOME_TYPE','NAME_EDUCATION_TYPE','NAME_FAMILY_STATUS','NAME_HOUSING_TYPE','OCCUPATION_TYPE','WEEKDAY_APPR_PROCESS_START','ORGANIZATION_TYPE']]).toarray())"
   ]
  },
  {
   "cell_type": "code",
   "execution_count": 47,
   "metadata": {
    "id": "lbYfwfZWKyK1"
   },
   "outputs": [],
   "source": [
    "# label_encoder object knows how to understand word labels.\n",
    "label_encoder = preprocessing.LabelEncoder()\n",
    "\n",
    "# Encode labels in column 'species'.\n",
    "data['NAME_CONTRACT_TYPE']= label_encoder.fit_transform(data['NAME_CONTRACT_TYPE'])\n",
    "data['CODE_GENDER']= label_encoder.fit_transform(data['CODE_GENDER'])\n",
    "data['FLAG_OWN_CAR']= label_encoder.fit_transform(data['FLAG_OWN_CAR'])\n",
    "data['FLAG_OWN_REALTY']= label_encoder.fit_transform(data['FLAG_OWN_REALTY'])\n",
    "data['NAME_TYPE_SUITE']= label_encoder.fit_transform(data['NAME_TYPE_SUITE'])\n",
    "data['NAME_INCOME_TYPE']= label_encoder.fit_transform(data['NAME_INCOME_TYPE'])\n",
    "data['NAME_EDUCATION_TYPE']= label_encoder.fit_transform(data['NAME_EDUCATION_TYPE'])\n",
    "data['NAME_FAMILY_STATUS']= label_encoder.fit_transform(data['NAME_FAMILY_STATUS'])\n",
    "data['NAME_HOUSING_TYPE']= label_encoder.fit_transform(data['NAME_HOUSING_TYPE'])\n",
    "data['OCCUPATION_TYPE']= label_encoder.fit_transform(data['OCCUPATION_TYPE'])\n",
    "data['WEEKDAY_APPR_PROCESS_START']= label_encoder.fit_transform(data['WEEKDAY_APPR_PROCESS_START'])\n",
    "data['ORGANIZATION_TYPE']= label_encoder.fit_transform(data['ORGANIZATION_TYPE'])"
   ]
  },
  {
   "cell_type": "code",
   "execution_count": 48,
   "metadata": {
    "id": "cpJ9FLADRQSP"
   },
   "outputs": [],
   "source": [
    "data = data.dropna(axis=0)"
   ]
  },
  {
   "cell_type": "code",
   "execution_count": 49,
   "metadata": {
    "id": "g6EHX1PDLDyc"
   },
   "outputs": [],
   "source": [
    "X = data.drop(\"TARGET\",axis=1)\n",
    "Y = data.TARGET"
   ]
  },
  {
   "cell_type": "code",
   "execution_count": 50,
   "metadata": {
    "colab": {
     "base_uri": "https://localhost:8080/"
    },
    "id": "S4THBfbXLTJr",
    "outputId": "78b6c573-0716-4e86-c94f-2a6dcf9e4eec"
   },
   "outputs": [
    {
     "data": {
      "text/plain": [
       "((87298, 36), (21825, 36))"
      ]
     },
     "execution_count": 50,
     "metadata": {},
     "output_type": "execute_result"
    }
   ],
   "source": [
    "X_train,X_test,y_train,y_test=train_test_split(X,Y,test_size=0.2,random_state=1)\n",
    "\n",
    "X_train.shape,X_test.shape"
   ]
  },
  {
   "cell_type": "markdown",
   "metadata": {
    "id": "Vmtv484GXDIB"
   },
   "source": [
    "1. Random Forest"
   ]
  },
  {
   "cell_type": "code",
   "execution_count": 51,
   "metadata": {
    "colab": {
     "base_uri": "https://localhost:8080/"
    },
    "id": "oNKE5sIgLZGP",
    "outputId": "01b17002-ac73-49cc-8050-58f2efc84990"
   },
   "outputs": [
    {
     "data": {
      "text/plain": [
       "RandomForestClassifier(n_estimators=10, random_state=0)"
      ]
     },
     "execution_count": 51,
     "metadata": {},
     "output_type": "execute_result"
    }
   ],
   "source": [
    "# Applying random forest Classifier\n",
    "\n",
    "Classifier1 = RandomForestClassifier(n_estimators = 10, random_state = 0)\n",
    "Classifier1.fit(X_train, y_train)"
   ]
  },
  {
   "cell_type": "code",
   "execution_count": 52,
   "metadata": {
    "colab": {
     "base_uri": "https://localhost:8080/"
    },
    "id": "E9Xp_eNtLhe-",
    "outputId": "ff3cf9cd-ff26-40e9-ec01-42ea19b072a0"
   },
   "outputs": [
    {
     "data": {
      "text/plain": [
       "array([0, 0, 0, ..., 0, 0, 0], dtype=int64)"
      ]
     },
     "execution_count": 52,
     "metadata": {},
     "output_type": "execute_result"
    }
   ],
   "source": [
    "y_pred1 = Classifier1.predict(X_test)\n",
    "y_pred1"
   ]
  },
  {
   "cell_type": "code",
   "execution_count": 53,
   "metadata": {
    "colab": {
     "base_uri": "https://localhost:8080/"
    },
    "id": "f8foHrlRRswf",
    "outputId": "5e5ea889-13f9-4ca3-a795-5cfebfc06a21"
   },
   "outputs": [
    {
     "name": "stdout",
     "output_type": "stream",
     "text": [
      "[[20152    44]\n",
      " [ 1593    36]]\n"
     ]
    },
    {
     "data": {
      "text/plain": [
       "0.9249942726231386"
      ]
     },
     "execution_count": 53,
     "metadata": {},
     "output_type": "execute_result"
    }
   ],
   "source": [
    "cm1=confusion_matrix(y_test,y_pred1)\n",
    "print(cm1)\n",
    "accuracy_score(y_test,y_pred1)"
   ]
  },
  {
   "cell_type": "code",
   "execution_count": 54,
   "metadata": {
    "colab": {
     "base_uri": "https://localhost:8080/"
    },
    "id": "AZVDAQaBRuil",
    "outputId": "1c7c8c70-86da-4891-9f74-7092b29c1fd2"
   },
   "outputs": [
    {
     "name": "stdout",
     "output_type": "stream",
     "text": [
      "              precision    recall  f1-score   support\n",
      "\n",
      "           0       0.93      1.00      0.96     20196\n",
      "           1       0.45      0.02      0.04      1629\n",
      "\n",
      "    accuracy                           0.92     21825\n",
      "   macro avg       0.69      0.51      0.50     21825\n",
      "weighted avg       0.89      0.92      0.89     21825\n",
      "\n"
     ]
    }
   ],
   "source": [
    "# Classification Report\n",
    "print(classification_report(y_test, y_pred1))"
   ]
  },
  {
   "cell_type": "markdown",
   "metadata": {
    "id": "e5hUqioDXH2O"
   },
   "source": [
    "2. Logistic Regression"
   ]
  },
  {
   "cell_type": "code",
   "execution_count": 55,
   "metadata": {
    "colab": {
     "base_uri": "https://localhost:8080/"
    },
    "id": "-K5oTdaYSXsG",
    "outputId": "0fa112c5-c0d4-4a05-999b-475d73ea5c2c"
   },
   "outputs": [
    {
     "data": {
      "text/plain": [
       "LogisticRegression(max_iter=2000, random_state=0)"
      ]
     },
     "execution_count": 55,
     "metadata": {},
     "output_type": "execute_result"
    }
   ],
   "source": [
    "# Applying Logistic Regression Classifier\n",
    "\n",
    "classifier2 = LogisticRegression(random_state=0, max_iter=2000)\n",
    "classifier2.fit(X_train, y_train)"
   ]
  },
  {
   "cell_type": "code",
   "execution_count": 56,
   "metadata": {
    "colab": {
     "base_uri": "https://localhost:8080/"
    },
    "id": "ZlIT-euQSl6C",
    "outputId": "f716b27e-5843-4403-cadc-156a7d7addf9"
   },
   "outputs": [
    {
     "name": "stdout",
     "output_type": "stream",
     "text": [
      "[[20196     0]\n",
      " [ 1629     0]]\n"
     ]
    },
    {
     "data": {
      "text/plain": [
       "0.925360824742268"
      ]
     },
     "execution_count": 56,
     "metadata": {},
     "output_type": "execute_result"
    }
   ],
   "source": [
    "y_pred2 = classifier2.predict(X_test)\n",
    "cm2 = confusion_matrix(y_test, y_pred2)\n",
    "print(cm2)\n",
    "accuracy_score(y_test, y_pred2)"
   ]
  },
  {
   "cell_type": "code",
   "execution_count": 57,
   "metadata": {
    "colab": {
     "base_uri": "https://localhost:8080/"
    },
    "id": "_XM8vbjkSvlD",
    "outputId": "1e285f39-13f5-4536-c9d6-b17a1d64fdf8"
   },
   "outputs": [
    {
     "name": "stdout",
     "output_type": "stream",
     "text": [
      "              precision    recall  f1-score   support\n",
      "\n",
      "           0       0.93      1.00      0.96     20196\n",
      "           1       0.00      0.00      0.00      1629\n",
      "\n",
      "    accuracy                           0.93     21825\n",
      "   macro avg       0.46      0.50      0.48     21825\n",
      "weighted avg       0.86      0.93      0.89     21825\n",
      "\n"
     ]
    },
    {
     "name": "stderr",
     "output_type": "stream",
     "text": [
      "C:\\ProgramData\\Anaconda3\\lib\\site-packages\\sklearn\\metrics\\_classification.py:1248: UndefinedMetricWarning:\n",
      "\n",
      "Precision and F-score are ill-defined and being set to 0.0 in labels with no predicted samples. Use `zero_division` parameter to control this behavior.\n",
      "\n",
      "C:\\ProgramData\\Anaconda3\\lib\\site-packages\\sklearn\\metrics\\_classification.py:1248: UndefinedMetricWarning:\n",
      "\n",
      "Precision and F-score are ill-defined and being set to 0.0 in labels with no predicted samples. Use `zero_division` parameter to control this behavior.\n",
      "\n",
      "C:\\ProgramData\\Anaconda3\\lib\\site-packages\\sklearn\\metrics\\_classification.py:1248: UndefinedMetricWarning:\n",
      "\n",
      "Precision and F-score are ill-defined and being set to 0.0 in labels with no predicted samples. Use `zero_division` parameter to control this behavior.\n",
      "\n"
     ]
    }
   ],
   "source": [
    "# Classification Report\n",
    "print(classification_report(y_test, y_pred2))"
   ]
  },
  {
   "attachments": {},
   "cell_type": "markdown",
   "metadata": {
    "id": "ED9Q45zjVSGZ"
   },
   "source": [
    "3. Decision Tree "
   ]
  },
  {
   "cell_type": "code",
   "execution_count": 58,
   "metadata": {
    "colab": {
     "base_uri": "https://localhost:8080/"
    },
    "id": "QaTIaORWSy2c",
    "outputId": "083a9cf2-b297-429c-e7c6-e1a3fc91df39"
   },
   "outputs": [
    {
     "data": {
      "text/plain": [
       "DecisionTreeClassifier(criterion='entropy', random_state=0)"
      ]
     },
     "execution_count": 58,
     "metadata": {},
     "output_type": "execute_result"
    }
   ],
   "source": [
    "# Applying Decision Tree Classifier\n",
    "\n",
    "classifier3 = DecisionTreeClassifier(criterion = 'entropy', random_state = 0)\n",
    "classifier3.fit(X_train, y_train)"
   ]
  },
  {
   "cell_type": "code",
   "execution_count": 59,
   "metadata": {
    "colab": {
     "base_uri": "https://localhost:8080/"
    },
    "id": "KcDJQ6MsTLpr",
    "outputId": "a14461d7-60ff-474a-fe5d-c3caa5204d52"
   },
   "outputs": [
    {
     "name": "stdout",
     "output_type": "stream",
     "text": [
      "[[18704  1492]\n",
      " [ 1369   260]]\n"
     ]
    },
    {
     "data": {
      "text/plain": [
       "0.8689117983963345"
      ]
     },
     "execution_count": 59,
     "metadata": {},
     "output_type": "execute_result"
    }
   ],
   "source": [
    "\n",
    "y_pred3 = classifier3.predict(X_test)\n",
    "cm3 = confusion_matrix(y_test, y_pred3)\n",
    "print(cm3)\n",
    "accuracy_score(y_test, y_pred3)"
   ]
  },
  {
   "cell_type": "code",
   "execution_count": 60,
   "metadata": {},
   "outputs": [
    {
     "name": "stdout",
     "output_type": "stream",
     "text": [
      "              precision    recall  f1-score   support\n",
      "\n",
      "           0       0.93      0.93      0.93     20196\n",
      "           1       0.15      0.16      0.15      1629\n",
      "\n",
      "    accuracy                           0.87     21825\n",
      "   macro avg       0.54      0.54      0.54     21825\n",
      "weighted avg       0.87      0.87      0.87     21825\n",
      "\n"
     ]
    }
   ],
   "source": [
    "# Classification Report\n",
    "print(classification_report(y_test, y_pred3))"
   ]
  },
  {
   "cell_type": "markdown",
   "metadata": {
    "id": "447-BmIwVVpN"
   },
   "source": [
    "4. KNN"
   ]
  },
  {
   "cell_type": "code",
   "execution_count": 61,
   "metadata": {
    "colab": {
     "base_uri": "https://localhost:8080/"
    },
    "id": "DwuLoMVXTUn5",
    "outputId": "61e5c1f0-2793-4339-f3cb-38cce19d069d"
   },
   "outputs": [
    {
     "data": {
      "text/plain": [
       "KNeighborsClassifier(n_neighbors=10)"
      ]
     },
     "execution_count": 61,
     "metadata": {},
     "output_type": "execute_result"
    }
   ],
   "source": [
    "# Applying K nearest neighbour Classifier\n",
    "\n",
    "classifier4 = KNeighborsClassifier(n_neighbors = 10, metric = 'minkowski', p = 2)\n",
    "classifier4.fit(X_train, y_train)"
   ]
  },
  {
   "cell_type": "code",
   "execution_count": 62,
   "metadata": {
    "colab": {
     "base_uri": "https://localhost:8080/"
    },
    "id": "WEPAYeYFTkuG",
    "outputId": "349812cc-aff8-47b9-f050-d33ecda11eeb"
   },
   "outputs": [
    {
     "name": "stdout",
     "output_type": "stream",
     "text": [
      "[[20192     4]\n",
      " [ 1628     1]]\n"
     ]
    },
    {
     "data": {
      "text/plain": [
       "0.9252233676975945"
      ]
     },
     "execution_count": 62,
     "metadata": {},
     "output_type": "execute_result"
    }
   ],
   "source": [
    "y_pred4 = classifier4.predict(X_test)\n",
    "cm4 = confusion_matrix(y_test, y_pred4)\n",
    "print(cm4)\n",
    "accuracy_score(y_test, y_pred4)"
   ]
  },
  {
   "cell_type": "code",
   "execution_count": 63,
   "metadata": {},
   "outputs": [
    {
     "name": "stdout",
     "output_type": "stream",
     "text": [
      "              precision    recall  f1-score   support\n",
      "\n",
      "           0       0.93      1.00      0.96     20196\n",
      "           1       0.20      0.00      0.00      1629\n",
      "\n",
      "    accuracy                           0.93     21825\n",
      "   macro avg       0.56      0.50      0.48     21825\n",
      "weighted avg       0.87      0.93      0.89     21825\n",
      "\n"
     ]
    }
   ],
   "source": [
    "# Classification Report\n",
    "print(classification_report(y_test, y_pred4))"
   ]
  },
  {
   "cell_type": "markdown",
   "metadata": {
    "id": "rhPbAOjpVYIi"
   },
   "source": [
    "SVM"
   ]
  },
  {
   "cell_type": "code",
   "execution_count": 64,
   "metadata": {
    "id": "mRBaeHlOVQKZ"
   },
   "outputs": [],
   "source": [
    "# classifier5 = SVC(kernel = 'linear', random_state = 0)\n",
    "# classifier5.fit(X_train, y_train)"
   ]
  },
  {
   "cell_type": "code",
   "execution_count": 65,
   "metadata": {
    "id": "ybOmyR4tVkPY"
   },
   "outputs": [],
   "source": [
    "# y_pred5 = classifier5.predict(X_test)\n",
    "# cm5 = confusion_matrix(y_test, y_pred5)\n",
    "# print(cm5)\n",
    "# accuracy_score(y_test, y_pred5)"
   ]
  },
  {
   "cell_type": "code",
   "execution_count": 66,
   "metadata": {},
   "outputs": [],
   "source": [
    "# # Classification Report\n",
    "# print(classification_report(y_test, y_pred5))"
   ]
  },
  {
   "cell_type": "markdown",
   "metadata": {
    "id": "eBBESppHaW9N"
   },
   "source": [
    "5. Xgboost Random Forest Ensemble"
   ]
  },
  {
   "cell_type": "code",
   "execution_count": 67,
   "metadata": {
    "colab": {
     "base_uri": "https://localhost:8080/"
    },
    "id": "QasoIT8jab97",
    "outputId": "7fa83eab-e576-4ad8-f4f0-47436e8cd38d"
   },
   "outputs": [
    {
     "name": "stderr",
     "output_type": "stream",
     "text": [
      "C:\\ProgramData\\Anaconda3\\lib\\site-packages\\xgboost\\sklearn.py:1421: UserWarning:\n",
      "\n",
      "`use_label_encoder` is deprecated in 1.7.0.\n",
      "\n"
     ]
    },
    {
     "data": {
      "text/plain": [
       "XGBRFClassifier(base_score=0.5, booster='gbtree', callbacks=None,\n",
       "                colsample_bylevel=1, colsample_bytree=1,\n",
       "                early_stopping_rounds=None, enable_categorical=False,\n",
       "                eval_metric='error', feature_types=None, gamma=0, gpu_id=-1,\n",
       "                grow_policy='depthwise', importance_type=None,\n",
       "                interaction_constraints='', max_bin=256, max_cat_threshold=64,\n",
       "                max_cat_to_onehot=4, max_delta_step=0, max_depth=6,\n",
       "                max_leaves=0, min_child_weight=1, missing=nan,\n",
       "                monotone_constraints='()', n_estimators=100, n_jobs=0,\n",
       "                num_parallel_tree=100, objective='binary:logistic',\n",
       "                predictor='auto', random_state=0, reg_alpha=0, ...)"
      ]
     },
     "execution_count": 67,
     "metadata": {},
     "output_type": "execute_result"
    }
   ],
   "source": [
    "# Applying Xgboost Random Forest Ensemble Classifier\n",
    "\n",
    "classifier5 = xg.XGBRFClassifier(use_label_encoder=False, eval_metric = 'error')\n",
    "classifier5.fit(X_train, y_train)\n"
   ]
  },
  {
   "cell_type": "code",
   "execution_count": 68,
   "metadata": {
    "colab": {
     "base_uri": "https://localhost:8080/"
    },
    "id": "pYFoIWsEahSQ",
    "outputId": "14f36926-845b-457e-b104-d7dae582a8f7"
   },
   "outputs": [
    {
     "name": "stdout",
     "output_type": "stream",
     "text": [
      "[[20190     6]\n",
      " [ 1619    10]]\n"
     ]
    },
    {
     "data": {
      "text/plain": [
       "0.9255441008018328"
      ]
     },
     "execution_count": 68,
     "metadata": {},
     "output_type": "execute_result"
    }
   ],
   "source": [
    "y_pred5 = classifier5.predict(X_test)\n",
    "cm5 = confusion_matrix(y_test, y_pred5)\n",
    "print(cm5)\n",
    "accuracy_score(y_test, y_pred5)"
   ]
  },
  {
   "cell_type": "code",
   "execution_count": 69,
   "metadata": {},
   "outputs": [
    {
     "name": "stdout",
     "output_type": "stream",
     "text": [
      "              precision    recall  f1-score   support\n",
      "\n",
      "           0       0.93      1.00      0.96     20196\n",
      "           1       0.62      0.01      0.01      1629\n",
      "\n",
      "    accuracy                           0.93     21825\n",
      "   macro avg       0.78      0.50      0.49     21825\n",
      "weighted avg       0.90      0.93      0.89     21825\n",
      "\n"
     ]
    }
   ],
   "source": [
    "# Classification Report\n",
    "print(classification_report(y_test, y_pred5))"
   ]
  },
  {
   "cell_type": "markdown",
   "metadata": {
    "id": "A4ZkGlTbVrXC"
   },
   "source": [
    "6. Naive Bayes"
   ]
  },
  {
   "cell_type": "code",
   "execution_count": 70,
   "metadata": {
    "colab": {
     "base_uri": "https://localhost:8080/"
    },
    "id": "d-9GSU-5Vtrv",
    "outputId": "b34d9451-6190-484b-93d9-41f9b05224af"
   },
   "outputs": [
    {
     "data": {
      "text/plain": [
       "GaussianNB()"
      ]
     },
     "execution_count": 70,
     "metadata": {},
     "output_type": "execute_result"
    }
   ],
   "source": [
    "# Applying Naive Bayes Classifier\n",
    "\n",
    "classifier6 = GaussianNB()\n",
    "classifier6.fit(X_train, y_train)"
   ]
  },
  {
   "cell_type": "code",
   "execution_count": 71,
   "metadata": {
    "colab": {
     "base_uri": "https://localhost:8080/"
    },
    "id": "knPVnFPHV0Pt",
    "outputId": "7dea2204-fced-4319-cbed-ce2fdaae912d"
   },
   "outputs": [
    {
     "name": "stdout",
     "output_type": "stream",
     "text": [
      "[[20192     4]\n",
      " [ 1628     1]]\n"
     ]
    },
    {
     "data": {
      "text/plain": [
       "0.9252233676975945"
      ]
     },
     "execution_count": 71,
     "metadata": {},
     "output_type": "execute_result"
    }
   ],
   "source": [
    "y_pred6 = classifier4.predict(X_test)\n",
    "cm6 = confusion_matrix(y_test, y_pred6)\n",
    "print(cm6)\n",
    "accuracy_score(y_test, y_pred6)"
   ]
  },
  {
   "cell_type": "code",
   "execution_count": 72,
   "metadata": {},
   "outputs": [
    {
     "name": "stdout",
     "output_type": "stream",
     "text": [
      "              precision    recall  f1-score   support\n",
      "\n",
      "           0       0.93      1.00      0.96     20196\n",
      "           1       0.20      0.00      0.00      1629\n",
      "\n",
      "    accuracy                           0.93     21825\n",
      "   macro avg       0.56      0.50      0.48     21825\n",
      "weighted avg       0.87      0.93      0.89     21825\n",
      "\n"
     ]
    }
   ],
   "source": [
    "# Classification Report\n",
    "print(classification_report(y_test, y_pred6))"
   ]
  },
  {
   "cell_type": "markdown",
   "metadata": {
    "id": "VVsqdjBNWQmg"
   },
   "source": [
    "7. ANN"
   ]
  },
  {
   "cell_type": "code",
   "execution_count": 73,
   "metadata": {
    "id": "smbblwNhWOld"
   },
   "outputs": [],
   "source": [
    "\n",
    "model=Sequential()\n",
    "model.add(Dense(1000,input_dim=36,activation='relu'))\n",
    "model.add(Dense(500,activation='relu'))\n",
    "model.add(Dropout(0.2))\n",
    "model.add(Dense(1,activation='sigmoid'))\n",
    "model.compile(loss='categorical_crossentropy',optimizer='adam',metrics=['accuracy'])"
   ]
  },
  {
   "cell_type": "code",
   "execution_count": 74,
   "metadata": {
    "colab": {
     "base_uri": "https://localhost:8080/"
    },
    "id": "EgRR2_8DWoTg",
    "outputId": "0cc82267-7dc9-48fd-fc9e-148c24cea223"
   },
   "outputs": [
    {
     "name": "stdout",
     "output_type": "stream",
     "text": [
      "Epoch 1/5\n",
      "2729/2729 [==============================] - 12s 4ms/step - loss: 0.0000e+00 - accuracy: 0.9271 - val_loss: 0.0000e+00 - val_accuracy: 0.9254\n",
      "Epoch 2/5\n",
      "2729/2729 [==============================] - 12s 4ms/step - loss: 0.0000e+00 - accuracy: 0.9272 - val_loss: 0.0000e+00 - val_accuracy: 0.9254\n",
      "Epoch 3/5\n",
      "2729/2729 [==============================] - 12s 4ms/step - loss: 0.0000e+00 - accuracy: 0.9272 - val_loss: 0.0000e+00 - val_accuracy: 0.9254\n",
      "Epoch 4/5\n",
      "2729/2729 [==============================] - 12s 4ms/step - loss: 0.0000e+00 - accuracy: 0.9272 - val_loss: 0.0000e+00 - val_accuracy: 0.9254\n",
      "Epoch 5/5\n",
      "2729/2729 [==============================] - 12s 4ms/step - loss: 0.0000e+00 - accuracy: 0.9272 - val_loss: 0.0000e+00 - val_accuracy: 0.9254\n"
     ]
    },
    {
     "data": {
      "text/plain": [
       "<keras.callbacks.History at 0x1e0271119a0>"
      ]
     },
     "execution_count": 74,
     "metadata": {},
     "output_type": "execute_result"
    }
   ],
   "source": [
    "model.fit(X_train,y_train,validation_data=(X_test,y_test), epochs=5, verbose=1)"
   ]
  },
  {
   "cell_type": "code",
   "execution_count": 75,
   "metadata": {
    "colab": {
     "base_uri": "https://localhost:8080/"
    },
    "id": "byiN14ztWrDX",
    "outputId": "206798ad-bd7d-48c6-a04c-486c31535e2e",
    "scrolled": true
   },
   "outputs": [
    {
     "name": "stdout",
     "output_type": "stream",
     "text": [
      "683/683 [==============================] - 1s 1ms/step\n",
      "[[20196     0]\n",
      " [ 1629     0]]\n"
     ]
    },
    {
     "data": {
      "text/plain": [
       "0.925360824742268"
      ]
     },
     "execution_count": 75,
     "metadata": {},
     "output_type": "execute_result"
    }
   ],
   "source": [
    "prediction=model.predict(X_test)\n",
    "cm7 = confusion_matrix(y_test, prediction)\n",
    "print(cm7)\n",
    "accuracy_score(y_test, prediction)"
   ]
  },
  {
   "cell_type": "code",
   "execution_count": 76,
   "metadata": {},
   "outputs": [
    {
     "name": "stdout",
     "output_type": "stream",
     "text": [
      "              precision    recall  f1-score   support\n",
      "\n",
      "           0       0.93      1.00      0.96     20196\n",
      "           1       0.00      0.00      0.00      1629\n",
      "\n",
      "    accuracy                           0.93     21825\n",
      "   macro avg       0.46      0.50      0.48     21825\n",
      "weighted avg       0.86      0.93      0.89     21825\n",
      "\n"
     ]
    },
    {
     "name": "stderr",
     "output_type": "stream",
     "text": [
      "C:\\ProgramData\\Anaconda3\\lib\\site-packages\\sklearn\\metrics\\_classification.py:1248: UndefinedMetricWarning:\n",
      "\n",
      "Precision and F-score are ill-defined and being set to 0.0 in labels with no predicted samples. Use `zero_division` parameter to control this behavior.\n",
      "\n",
      "C:\\ProgramData\\Anaconda3\\lib\\site-packages\\sklearn\\metrics\\_classification.py:1248: UndefinedMetricWarning:\n",
      "\n",
      "Precision and F-score are ill-defined and being set to 0.0 in labels with no predicted samples. Use `zero_division` parameter to control this behavior.\n",
      "\n",
      "C:\\ProgramData\\Anaconda3\\lib\\site-packages\\sklearn\\metrics\\_classification.py:1248: UndefinedMetricWarning:\n",
      "\n",
      "Precision and F-score are ill-defined and being set to 0.0 in labels with no predicted samples. Use `zero_division` parameter to control this behavior.\n",
      "\n"
     ]
    }
   ],
   "source": [
    "# Classification Report\n",
    "print(classification_report(y_test, prediction))"
   ]
  },
  {
   "cell_type": "markdown",
   "metadata": {
    "id": "ceC_9AhmZU5j"
   },
   "source": [
    "8. Xgboost"
   ]
  },
  {
   "cell_type": "code",
   "execution_count": 77,
   "metadata": {
    "colab": {
     "base_uri": "https://localhost:8080/"
    },
    "id": "1SJuxiwPZYbZ",
    "outputId": "0b6017b9-3628-4502-b1e0-49b821a254e3"
   },
   "outputs": [
    {
     "name": "stderr",
     "output_type": "stream",
     "text": [
      "C:\\ProgramData\\Anaconda3\\lib\\site-packages\\xgboost\\sklearn.py:1421: UserWarning:\n",
      "\n",
      "`use_label_encoder` is deprecated in 1.7.0.\n",
      "\n"
     ]
    },
    {
     "data": {
      "text/plain": [
       "XGBClassifier(base_score=0.5, booster='gbtree', callbacks=None,\n",
       "              colsample_bylevel=1, colsample_bynode=1, colsample_bytree=1,\n",
       "              early_stopping_rounds=None, enable_categorical=False,\n",
       "              eval_metric='error', feature_types=None, gamma=0, gpu_id=-1,\n",
       "              grow_policy='depthwise', importance_type=None,\n",
       "              interaction_constraints='', learning_rate=0.300000012,\n",
       "              max_bin=256, max_cat_threshold=64, max_cat_to_onehot=4,\n",
       "              max_delta_step=0, max_depth=6, max_leaves=0, min_child_weight=1,\n",
       "              missing=nan, monotone_constraints='()', n_estimators=100,\n",
       "              n_jobs=0, num_parallel_tree=1, predictor='auto', random_state=0, ...)"
      ]
     },
     "execution_count": 77,
     "metadata": {},
     "output_type": "execute_result"
    }
   ],
   "source": [
    "# Applying Xgboost Classifier\n",
    "\n",
    "classifier8 = xg.XGBClassifier(use_label_encoder=False, eval_metric = 'error')\n",
    "classifier8.fit(X_train, y_train)"
   ]
  },
  {
   "cell_type": "code",
   "execution_count": 78,
   "metadata": {
    "colab": {
     "base_uri": "https://localhost:8080/"
    },
    "id": "cTTl6bfZZjNX",
    "outputId": "9edbbf0d-8689-4a07-af73-a67d923ddfde",
    "scrolled": true
   },
   "outputs": [
    {
     "name": "stdout",
     "output_type": "stream",
     "text": [
      "[[20109    87]\n",
      " [ 1573    56]]\n"
     ]
    },
    {
     "data": {
      "text/plain": [
       "0.9239404352806415"
      ]
     },
     "execution_count": 78,
     "metadata": {},
     "output_type": "execute_result"
    }
   ],
   "source": [
    "y_pred8 = classifier8.predict(X_test)\n",
    "cm8 = confusion_matrix(y_test, y_pred8)\n",
    "print(cm8)\n",
    "accuracy_score(y_test, y_pred8)"
   ]
  },
  {
   "cell_type": "code",
   "execution_count": 79,
   "metadata": {},
   "outputs": [
    {
     "name": "stdout",
     "output_type": "stream",
     "text": [
      "              precision    recall  f1-score   support\n",
      "\n",
      "           0       0.93      1.00      0.96     20196\n",
      "           1       0.39      0.03      0.06      1629\n",
      "\n",
      "    accuracy                           0.92     21825\n",
      "   macro avg       0.66      0.52      0.51     21825\n",
      "weighted avg       0.89      0.92      0.89     21825\n",
      "\n"
     ]
    }
   ],
   "source": [
    "# Classification Report\n",
    "print(classification_report(y_test, y_pred8))"
   ]
  },
  {
   "cell_type": "code",
   "execution_count": null,
   "metadata": {
    "id": "F66vSwfNbF-y"
   },
   "outputs": [],
   "source": []
  }
 ],
 "metadata": {
  "accelerator": "GPU",
  "colab": {
   "machine_shape": "hm",
   "provenance": []
  },
  "gpuClass": "standard",
  "kernelspec": {
   "display_name": "Python 3 (ipykernel)",
   "language": "python",
   "name": "python3"
  },
  "language_info": {
   "codemirror_mode": {
    "name": "ipython",
    "version": 3
   },
   "file_extension": ".py",
   "mimetype": "text/x-python",
   "name": "python",
   "nbconvert_exporter": "python",
   "pygments_lexer": "ipython3",
   "version": "3.9.7"
  }
 },
 "nbformat": 4,
 "nbformat_minor": 1
}
